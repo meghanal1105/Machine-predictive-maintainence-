{
  "nbformat": 4,
  "nbformat_minor": 0,
  "metadata": {
    "colab": {
      "name": "Machine Predictive Maintainence Model Building",
      "provenance": [],
      "collapsed_sections": []
    },
    "kernelspec": {
      "name": "python3",
      "display_name": "Python 3"
    },
    "language_info": {
      "name": "python"
    }
  },
  "cells": [
    {
      "cell_type": "code",
      "metadata": {
        "id": "qsQCQUsyop-9"
      },
      "source": [
        "import numpy as np\n",
        "import pandas as pd\n",
        "import scipy.stats\n",
        "import matplotlib.pyplot as plt\n",
        "import seaborn as sns\n",
        "import statsmodels.api as sm\n",
        "from statsmodels.formula.api import ols\n",
        "from statsmodels.stats.multicomp import pairwise_tukeyhsd\n",
        "from scipy.stats import chi2_contingency"
      ],
      "execution_count": null,
      "outputs": []
    },
    {
      "cell_type": "code",
      "metadata": {
        "colab": {
          "resources": {
            "http://localhost:8080/nbextensions/google.colab/files.js": {
              "data": "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",
              "ok": true,
              "headers": [
                [
                  "content-type",
                  "application/javascript"
                ]
              ],
              "status": 200,
              "status_text": ""
            }
          },
          "base_uri": "https://localhost:8080/",
          "height": 73
        },
        "id": "EXCLw0zhoxHn",
        "outputId": "d48faf8a-fbd5-4a61-d0e7-1086016bb99c"
      },
      "source": [
        "from google.colab import files\n",
        "uploaded= files.upload()"
      ],
      "execution_count": null,
      "outputs": [
        {
          "output_type": "display_data",
          "data": {
            "text/html": [
              "\n",
              "     <input type=\"file\" id=\"files-e2086520-6674-4f13-8f39-431974c351c2\" name=\"files[]\" multiple disabled\n",
              "        style=\"border:none\" />\n",
              "     <output id=\"result-e2086520-6674-4f13-8f39-431974c351c2\">\n",
              "      Upload widget is only available when the cell has been executed in the\n",
              "      current browser session. Please rerun this cell to enable.\n",
              "      </output>\n",
              "      <script src=\"/nbextensions/google.colab/files.js\"></script> "
            ],
            "text/plain": [
              "<IPython.core.display.HTML object>"
            ]
          },
          "metadata": {}
        },
        {
          "output_type": "stream",
          "name": "stdout",
          "text": [
            "Saving Machine_EDA.csv to Machine_EDA.csv\n"
          ]
        }
      ]
    },
    {
      "cell_type": "code",
      "metadata": {
        "id": "Pvn8e85ooz9I"
      },
      "source": [
        "df= pd.read_csv(\"Machine_EDA.csv\")"
      ],
      "execution_count": null,
      "outputs": []
    },
    {
      "cell_type": "code",
      "metadata": {
        "colab": {
          "base_uri": "https://localhost:8080/"
        },
        "id": "TnbmekJMpI3p",
        "outputId": "3780f45d-2b03-41d8-8b9a-3f1bd68e7e82"
      },
      "source": [
        "df.info()"
      ],
      "execution_count": null,
      "outputs": [
        {
          "output_type": "stream",
          "name": "stdout",
          "text": [
            "<class 'pandas.core.frame.DataFrame'>\n",
            "RangeIndex: 10000 entries, 0 to 9999\n",
            "Data columns (total 8 columns):\n",
            " #   Column            Non-Null Count  Dtype  \n",
            "---  ------            --------------  -----  \n",
            " 0   Type              10000 non-null  object \n",
            " 1   Air_temp          10000 non-null  float64\n",
            " 2   Process_temp      10000 non-null  float64\n",
            " 3   Rotational_speed  10000 non-null  float64\n",
            " 4   Torque            10000 non-null  float64\n",
            " 5   Tool_wear         10000 non-null  int64  \n",
            " 6   Target            10000 non-null  int64  \n",
            " 7   Failure_Type      10000 non-null  object \n",
            "dtypes: float64(4), int64(2), object(2)\n",
            "memory usage: 625.1+ KB\n"
          ]
        }
      ]
    },
    {
      "cell_type": "code",
      "metadata": {
        "id": "KxxAGW6fswDq"
      },
      "source": [
        "df1= df[:]"
      ],
      "execution_count": null,
      "outputs": []
    },
    {
      "cell_type": "code",
      "metadata": {
        "colab": {
          "base_uri": "https://localhost:8080/"
        },
        "id": "op4svCP8szLR",
        "outputId": "751142e8-6450-43f5-c0fa-763fe3e8bdfc"
      },
      "source": [
        "df1.info()"
      ],
      "execution_count": null,
      "outputs": [
        {
          "output_type": "stream",
          "name": "stdout",
          "text": [
            "<class 'pandas.core.frame.DataFrame'>\n",
            "RangeIndex: 10000 entries, 0 to 9999\n",
            "Data columns (total 8 columns):\n",
            " #   Column            Non-Null Count  Dtype  \n",
            "---  ------            --------------  -----  \n",
            " 0   Type              10000 non-null  object \n",
            " 1   Air_temp          10000 non-null  float64\n",
            " 2   Process_temp      10000 non-null  float64\n",
            " 3   Rotational_speed  10000 non-null  float64\n",
            " 4   Torque            10000 non-null  float64\n",
            " 5   Tool_wear         10000 non-null  int64  \n",
            " 6   Target            10000 non-null  int64  \n",
            " 7   Failure_Type      10000 non-null  object \n",
            "dtypes: float64(4), int64(2), object(2)\n",
            "memory usage: 625.1+ KB\n"
          ]
        }
      ]
    },
    {
      "cell_type": "code",
      "metadata": {
        "id": "NS4cC9Y7p_Ka"
      },
      "source": [
        "#Creating Dummies of Categorical Variables and dropping 1st dummy variable\n",
        "\n",
        "Catg_vars =['Type', 'Failure_Type']"
      ],
      "execution_count": null,
      "outputs": []
    },
    {
      "cell_type": "code",
      "metadata": {
        "id": "zA594JVZqheJ"
      },
      "source": [
        "for i in Catg_vars:\n",
        "    Catg_list = 'var'+'_'+i\n",
        "    Catg_list = pd.get_dummies(df[i], drop_first=True, prefix = i)\n",
        "    df2 = df1.join(Catg_list)\n",
        "    df1 = df2"
      ],
      "execution_count": null,
      "outputs": []
    },
    {
      "cell_type": "code",
      "metadata": {
        "colab": {
          "base_uri": "https://localhost:8080/"
        },
        "id": "HgQUEC_AtLac",
        "outputId": "12f33c07-88b8-488c-a61b-b04ac5e95710"
      },
      "source": [
        "df.info()"
      ],
      "execution_count": null,
      "outputs": [
        {
          "output_type": "stream",
          "name": "stdout",
          "text": [
            "<class 'pandas.core.frame.DataFrame'>\n",
            "RangeIndex: 10000 entries, 0 to 9999\n",
            "Data columns (total 8 columns):\n",
            " #   Column            Non-Null Count  Dtype  \n",
            "---  ------            --------------  -----  \n",
            " 0   Type              10000 non-null  object \n",
            " 1   Air_temp          10000 non-null  float64\n",
            " 2   Process_temp      10000 non-null  float64\n",
            " 3   Rotational_speed  10000 non-null  float64\n",
            " 4   Torque            10000 non-null  float64\n",
            " 5   Tool_wear         10000 non-null  int64  \n",
            " 6   Target            10000 non-null  int64  \n",
            " 7   Failure_Type      10000 non-null  object \n",
            "dtypes: float64(4), int64(2), object(2)\n",
            "memory usage: 625.1+ KB\n"
          ]
        }
      ]
    },
    {
      "cell_type": "code",
      "metadata": {
        "colab": {
          "base_uri": "https://localhost:8080/"
        },
        "id": "t4zSMmJGrGES",
        "outputId": "0bc2a1dd-ce1a-4d28-d0d0-c5332f0336bd"
      },
      "source": [
        "df1.info()"
      ],
      "execution_count": null,
      "outputs": [
        {
          "output_type": "stream",
          "name": "stdout",
          "text": [
            "<class 'pandas.core.frame.DataFrame'>\n",
            "RangeIndex: 10000 entries, 0 to 9999\n",
            "Data columns (total 10 columns):\n",
            " #   Column                        Non-Null Count  Dtype  \n",
            "---  ------                        --------------  -----  \n",
            " 0   Type                          10000 non-null  object \n",
            " 1   Air_temp                      10000 non-null  float64\n",
            " 2   Process_temp                  10000 non-null  float64\n",
            " 3   Rotational_speed              10000 non-null  float64\n",
            " 4   Torque                        10000 non-null  float64\n",
            " 5   Tool_wear                     10000 non-null  int64  \n",
            " 6   Target                        10000 non-null  int64  \n",
            " 7   Failure_Type                  10000 non-null  object \n",
            " 8   Type_L                        10000 non-null  uint8  \n",
            " 9   Failure_Type_Random Failures  10000 non-null  uint8  \n",
            "dtypes: float64(4), int64(2), object(2), uint8(2)\n",
            "memory usage: 644.7+ KB\n"
          ]
        }
      ]
    },
    {
      "cell_type": "code",
      "metadata": {
        "colab": {
          "base_uri": "https://localhost:8080/"
        },
        "id": "njoUgx2urKJ3",
        "outputId": "6e3e895b-4b68-493d-fc3b-5a2fe1d6963d"
      },
      "source": [
        "df2.info()"
      ],
      "execution_count": null,
      "outputs": [
        {
          "output_type": "stream",
          "name": "stdout",
          "text": [
            "<class 'pandas.core.frame.DataFrame'>\n",
            "RangeIndex: 10000 entries, 0 to 9999\n",
            "Data columns (total 10 columns):\n",
            " #   Column                        Non-Null Count  Dtype  \n",
            "---  ------                        --------------  -----  \n",
            " 0   Type                          10000 non-null  object \n",
            " 1   Air_temp                      10000 non-null  float64\n",
            " 2   Process_temp                  10000 non-null  float64\n",
            " 3   Rotational_speed              10000 non-null  float64\n",
            " 4   Torque                        10000 non-null  float64\n",
            " 5   Tool_wear                     10000 non-null  int64  \n",
            " 6   Target                        10000 non-null  int64  \n",
            " 7   Failure_Type                  10000 non-null  object \n",
            " 8   Type_L                        10000 non-null  uint8  \n",
            " 9   Failure_Type_Random Failures  10000 non-null  uint8  \n",
            "dtypes: float64(4), int64(2), object(2), uint8(2)\n",
            "memory usage: 644.7+ KB\n"
          ]
        }
      ]
    },
    {
      "cell_type": "code",
      "metadata": {
        "id": "sVq5TiRZrbqZ"
      },
      "source": [
        "#After Creating dummies and dropping 1st dummy now drop original variable\n",
        "Catg_vars = ['Type', 'Failure_Type']"
      ],
      "execution_count": null,
      "outputs": []
    },
    {
      "cell_type": "code",
      "metadata": {
        "id": "HLi6VOTktcUS"
      },
      "source": [
        "df_vars = df1.columns.values.tolist()"
      ],
      "execution_count": null,
      "outputs": []
    },
    {
      "cell_type": "code",
      "metadata": {
        "id": "_UOy4oVetfFc"
      },
      "source": [
        "to_keep = [i for i in df_vars if i not in Catg_vars] \n",
        "# keep only those which are not in the list of data_vars"
      ],
      "execution_count": null,
      "outputs": []
    },
    {
      "cell_type": "code",
      "metadata": {
        "id": "L3uBSSL6tiP8"
      },
      "source": [
        "df_final = df1[to_keep]"
      ],
      "execution_count": null,
      "outputs": []
    },
    {
      "cell_type": "code",
      "metadata": {
        "colab": {
          "base_uri": "https://localhost:8080/"
        },
        "id": "KMQxM0IOtr--",
        "outputId": "6b215984-c2fd-48a4-cd56-984d2edcce1d"
      },
      "source": [
        "df_final.columns.values"
      ],
      "execution_count": null,
      "outputs": [
        {
          "output_type": "execute_result",
          "data": {
            "text/plain": [
              "array(['Air_temp', 'Process_temp', 'Rotational_speed', 'Torque',\n",
              "       'Tool_wear', 'Target', 'Type_L', 'Failure_Type_Random Failures'],\n",
              "      dtype=object)"
            ]
          },
          "metadata": {},
          "execution_count": 18
        }
      ]
    },
    {
      "cell_type": "code",
      "metadata": {
        "colab": {
          "base_uri": "https://localhost:8080/"
        },
        "id": "HUl196MvtvAr",
        "outputId": "4925e0f4-5b26-4619-d464-e18650f8dbf6"
      },
      "source": [
        "df_final.info()"
      ],
      "execution_count": null,
      "outputs": [
        {
          "output_type": "stream",
          "name": "stdout",
          "text": [
            "<class 'pandas.core.frame.DataFrame'>\n",
            "RangeIndex: 10000 entries, 0 to 9999\n",
            "Data columns (total 8 columns):\n",
            " #   Column                        Non-Null Count  Dtype  \n",
            "---  ------                        --------------  -----  \n",
            " 0   Air_temp                      10000 non-null  float64\n",
            " 1   Process_temp                  10000 non-null  float64\n",
            " 2   Rotational_speed              10000 non-null  float64\n",
            " 3   Torque                        10000 non-null  float64\n",
            " 4   Tool_wear                     10000 non-null  int64  \n",
            " 5   Target                        10000 non-null  int64  \n",
            " 6   Type_L                        10000 non-null  uint8  \n",
            " 7   Failure_Type_Random Failures  10000 non-null  uint8  \n",
            "dtypes: float64(4), int64(2), uint8(2)\n",
            "memory usage: 488.4 KB\n"
          ]
        }
      ]
    },
    {
      "cell_type": "code",
      "metadata": {
        "id": "ZiWdwjAut2CQ"
      },
      "source": [
        "X = df_final.loc[:, df_final.columns!= 'Target']\n",
        "y = df_final.loc[:, df_final.columns== 'Target']"
      ],
      "execution_count": null,
      "outputs": []
    },
    {
      "cell_type": "code",
      "metadata": {
        "colab": {
          "base_uri": "https://localhost:8080/"
        },
        "id": "P8uWGLQmuT78",
        "outputId": "0050b92d-6d79-4ebd-c67b-47e768af68c9"
      },
      "source": [
        "X.info()"
      ],
      "execution_count": null,
      "outputs": [
        {
          "output_type": "stream",
          "name": "stdout",
          "text": [
            "<class 'pandas.core.frame.DataFrame'>\n",
            "RangeIndex: 10000 entries, 0 to 9999\n",
            "Data columns (total 7 columns):\n",
            " #   Column                        Non-Null Count  Dtype  \n",
            "---  ------                        --------------  -----  \n",
            " 0   Air_temp                      10000 non-null  float64\n",
            " 1   Process_temp                  10000 non-null  float64\n",
            " 2   Rotational_speed              10000 non-null  float64\n",
            " 3   Torque                        10000 non-null  float64\n",
            " 4   Tool_wear                     10000 non-null  int64  \n",
            " 5   Type_L                        10000 non-null  uint8  \n",
            " 6   Failure_Type_Random Failures  10000 non-null  uint8  \n",
            "dtypes: float64(4), int64(1), uint8(2)\n",
            "memory usage: 410.3 KB\n"
          ]
        }
      ]
    },
    {
      "cell_type": "code",
      "metadata": {
        "colab": {
          "base_uri": "https://localhost:8080/",
          "height": 423
        },
        "id": "0AmLgtFWuWaO",
        "outputId": "25bce061-0e48-4e2f-9541-8082267cade2"
      },
      "source": [
        "y"
      ],
      "execution_count": null,
      "outputs": [
        {
          "output_type": "execute_result",
          "data": {
            "text/html": [
              "<div>\n",
              "<style scoped>\n",
              "    .dataframe tbody tr th:only-of-type {\n",
              "        vertical-align: middle;\n",
              "    }\n",
              "\n",
              "    .dataframe tbody tr th {\n",
              "        vertical-align: top;\n",
              "    }\n",
              "\n",
              "    .dataframe thead th {\n",
              "        text-align: right;\n",
              "    }\n",
              "</style>\n",
              "<table border=\"1\" class=\"dataframe\">\n",
              "  <thead>\n",
              "    <tr style=\"text-align: right;\">\n",
              "      <th></th>\n",
              "      <th>Target</th>\n",
              "    </tr>\n",
              "  </thead>\n",
              "  <tbody>\n",
              "    <tr>\n",
              "      <th>0</th>\n",
              "      <td>0</td>\n",
              "    </tr>\n",
              "    <tr>\n",
              "      <th>1</th>\n",
              "      <td>0</td>\n",
              "    </tr>\n",
              "    <tr>\n",
              "      <th>2</th>\n",
              "      <td>0</td>\n",
              "    </tr>\n",
              "    <tr>\n",
              "      <th>3</th>\n",
              "      <td>0</td>\n",
              "    </tr>\n",
              "    <tr>\n",
              "      <th>4</th>\n",
              "      <td>0</td>\n",
              "    </tr>\n",
              "    <tr>\n",
              "      <th>...</th>\n",
              "      <td>...</td>\n",
              "    </tr>\n",
              "    <tr>\n",
              "      <th>9995</th>\n",
              "      <td>0</td>\n",
              "    </tr>\n",
              "    <tr>\n",
              "      <th>9996</th>\n",
              "      <td>0</td>\n",
              "    </tr>\n",
              "    <tr>\n",
              "      <th>9997</th>\n",
              "      <td>0</td>\n",
              "    </tr>\n",
              "    <tr>\n",
              "      <th>9998</th>\n",
              "      <td>0</td>\n",
              "    </tr>\n",
              "    <tr>\n",
              "      <th>9999</th>\n",
              "      <td>0</td>\n",
              "    </tr>\n",
              "  </tbody>\n",
              "</table>\n",
              "<p>10000 rows × 1 columns</p>\n",
              "</div>"
            ],
            "text/plain": [
              "      Target\n",
              "0          0\n",
              "1          0\n",
              "2          0\n",
              "3          0\n",
              "4          0\n",
              "...      ...\n",
              "9995       0\n",
              "9996       0\n",
              "9997       0\n",
              "9998       0\n",
              "9999       0\n",
              "\n",
              "[10000 rows x 1 columns]"
            ]
          },
          "metadata": {},
          "execution_count": 22
        }
      ]
    },
    {
      "cell_type": "code",
      "metadata": {
        "colab": {
          "base_uri": "https://localhost:8080/"
        },
        "id": "sXoOqEF7uYRE",
        "outputId": "d533350e-9dbb-4ba0-d7a0-a4de4f69f9c9"
      },
      "source": [
        "y.value_counts()"
      ],
      "execution_count": null,
      "outputs": [
        {
          "output_type": "execute_result",
          "data": {
            "text/plain": [
              "Target\n",
              "0         9661\n",
              "1          339\n",
              "dtype: int64"
            ]
          },
          "metadata": {},
          "execution_count": 23
        }
      ]
    },
    {
      "cell_type": "code",
      "metadata": {
        "id": "6zMKHRWoubb2"
      },
      "source": [
        "''' Splitting the data into Train & Test (70-30 respectively) '''\n",
        "\n",
        "from sklearn.linear_model import LogisticRegression\n",
        "from sklearn.model_selection import train_test_split"
      ],
      "execution_count": null,
      "outputs": []
    },
    {
      "cell_type": "code",
      "metadata": {
        "id": "6I78pxDEvUm7"
      },
      "source": [
        "X_train, X_test, y_train, y_test = train_test_split(X, y, test_size=0.3, random_state=0)"
      ],
      "execution_count": null,
      "outputs": []
    },
    {
      "cell_type": "code",
      "metadata": {
        "id": "sYxEBXO_vXsJ"
      },
      "source": [
        "train = X_train.join(y_train)"
      ],
      "execution_count": null,
      "outputs": []
    },
    {
      "cell_type": "code",
      "metadata": {
        "colab": {
          "base_uri": "https://localhost:8080/"
        },
        "id": "gvJf8kpRvauH",
        "outputId": "fd8adac6-5c0c-40a4-fb85-18b37076b96e"
      },
      "source": [
        "train.info()"
      ],
      "execution_count": null,
      "outputs": [
        {
          "output_type": "stream",
          "name": "stdout",
          "text": [
            "<class 'pandas.core.frame.DataFrame'>\n",
            "Int64Index: 7000 entries, 7681 to 2732\n",
            "Data columns (total 8 columns):\n",
            " #   Column                        Non-Null Count  Dtype  \n",
            "---  ------                        --------------  -----  \n",
            " 0   Air_temp                      7000 non-null   float64\n",
            " 1   Process_temp                  7000 non-null   float64\n",
            " 2   Rotational_speed              7000 non-null   float64\n",
            " 3   Torque                        7000 non-null   float64\n",
            " 4   Tool_wear                     7000 non-null   int64  \n",
            " 5   Type_L                        7000 non-null   uint8  \n",
            " 6   Failure_Type_Random Failures  7000 non-null   uint8  \n",
            " 7   Target                        7000 non-null   int64  \n",
            "dtypes: float64(4), int64(2), uint8(2)\n",
            "memory usage: 716.5 KB\n"
          ]
        }
      ]
    },
    {
      "cell_type": "code",
      "metadata": {
        "colab": {
          "base_uri": "https://localhost:8080/"
        },
        "id": "oGJyMsYWvvYc",
        "outputId": "bdc28c69-4e23-4db0-a1f1-11f3584ee919"
      },
      "source": [
        "no_failure = train[train.Target == 0] \n",
        "len(no_failure)"
      ],
      "execution_count": null,
      "outputs": [
        {
          "output_type": "execute_result",
          "data": {
            "text/plain": [
              "6760"
            ]
          },
          "metadata": {},
          "execution_count": 28
        }
      ]
    },
    {
      "cell_type": "code",
      "metadata": {
        "colab": {
          "base_uri": "https://localhost:8080/"
        },
        "id": "fRJuV0CowJHv",
        "outputId": "f6bd6c7d-e705-4e22-892e-723f2449612c"
      },
      "source": [
        "yes_failure = train[train.Target == 1] \n",
        "len(yes_failure)"
      ],
      "execution_count": null,
      "outputs": [
        {
          "output_type": "execute_result",
          "data": {
            "text/plain": [
              "240"
            ]
          },
          "metadata": {},
          "execution_count": 29
        }
      ]
    },
    {
      "cell_type": "code",
      "metadata": {
        "id": "-ARJcLeYwg2W"
      },
      "source": [
        "from sklearn.utils import resample"
      ],
      "execution_count": null,
      "outputs": []
    },
    {
      "cell_type": "code",
      "metadata": {
        "id": "yWE2WyGVwktF"
      },
      "source": [
        "# Smote is done - over sampling\n",
        "yes_failure_os = resample(yes_failure,\n",
        "                          replace = True, \n",
        "                          n_samples = len(no_failure),\n",
        "                          random_state = 14)"
      ],
      "execution_count": null,
      "outputs": []
    },
    {
      "cell_type": "code",
      "metadata": {
        "id": "vzgGa8itwzz8"
      },
      "source": [
        "train_os = pd.concat([no_failure, yes_failure_os])"
      ],
      "execution_count": null,
      "outputs": []
    },
    {
      "cell_type": "code",
      "metadata": {
        "colab": {
          "base_uri": "https://localhost:8080/"
        },
        "id": "apfi0CG7w7ia",
        "outputId": "0f077bad-c00d-41e1-ac8c-4999bd610460"
      },
      "source": [
        "train_os.Target.value_counts()"
      ],
      "execution_count": null,
      "outputs": [
        {
          "output_type": "execute_result",
          "data": {
            "text/plain": [
              "1    6760\n",
              "0    6760\n",
              "Name: Target, dtype: int64"
            ]
          },
          "metadata": {},
          "execution_count": 33
        }
      ]
    },
    {
      "cell_type": "code",
      "metadata": {
        "id": "S5AYa2crw_Hm"
      },
      "source": [
        "X_train_os = train_os.loc[:, train_os.columns != 'Target']\n",
        "y_train_os = train_os.loc[:, train_os.columns == 'Target']"
      ],
      "execution_count": null,
      "outputs": []
    },
    {
      "cell_type": "markdown",
      "metadata": {
        "id": "dxiirwflxqwA"
      },
      "source": [
        "**Recurrsive Feature Elimination**"
      ]
    },
    {
      "cell_type": "code",
      "metadata": {
        "id": "0FEE-RHKxS2V"
      },
      "source": [
        "from sklearn import datasets\n",
        "from sklearn.feature_selection import RFE\n",
        "from sklearn.linear_model import LogisticRegression"
      ],
      "execution_count": null,
      "outputs": []
    },
    {
      "cell_type": "code",
      "metadata": {
        "id": "066cImnuxxSN"
      },
      "source": [
        "logreg = LogisticRegression(max_iter=10000000)"
      ],
      "execution_count": null,
      "outputs": []
    },
    {
      "cell_type": "code",
      "metadata": {
        "id": "Mx2SBXXZyNZH"
      },
      "source": [
        "rfe = RFE(logreg, n_features_to_select=2)"
      ],
      "execution_count": null,
      "outputs": []
    },
    {
      "cell_type": "code",
      "metadata": {
        "id": "FggssD5nyi4_"
      },
      "source": [
        "rfe = rfe.fit(X_train_os, y_train_os.values.ravel())"
      ],
      "execution_count": null,
      "outputs": []
    },
    {
      "cell_type": "code",
      "metadata": {
        "colab": {
          "base_uri": "https://localhost:8080/"
        },
        "id": "RwXVIwLUynQR",
        "outputId": "eeee0e27-9d71-4f30-c3e4-ff006f28194e"
      },
      "source": [
        "rfe.n_features_to_select"
      ],
      "execution_count": null,
      "outputs": [
        {
          "output_type": "execute_result",
          "data": {
            "text/plain": [
              "2"
            ]
          },
          "metadata": {},
          "execution_count": 39
        }
      ]
    },
    {
      "cell_type": "code",
      "metadata": {
        "colab": {
          "base_uri": "https://localhost:8080/"
        },
        "id": "VIsGXBVqypu2",
        "outputId": "3365ff93-9c21-4787-eabb-7b4deb30119b"
      },
      "source": [
        "X_train_os.columns[rfe.get_support()]"
      ],
      "execution_count": null,
      "outputs": [
        {
          "output_type": "execute_result",
          "data": {
            "text/plain": [
              "Index(['Type_L', 'Failure_Type_Random Failures'], dtype='object')"
            ]
          },
          "metadata": {},
          "execution_count": 40
        }
      ]
    },
    {
      "cell_type": "code",
      "metadata": {
        "id": "J9qnrGoFysiA"
      },
      "source": [
        "cols = X_train_os.columns[rfe.get_support()]\n"
      ],
      "execution_count": null,
      "outputs": []
    },
    {
      "cell_type": "code",
      "metadata": {
        "colab": {
          "base_uri": "https://localhost:8080/"
        },
        "id": "urNz4MFhyv2o",
        "outputId": "03ff1de9-771f-4e2a-f4bc-8cb2ae24e87c"
      },
      "source": [
        "cols.to_list()\n"
      ],
      "execution_count": null,
      "outputs": [
        {
          "output_type": "execute_result",
          "data": {
            "text/plain": [
              "['Type_L', 'Failure_Type_Random Failures']"
            ]
          },
          "metadata": {},
          "execution_count": 42
        }
      ]
    },
    {
      "cell_type": "markdown",
      "metadata": {
        "id": "GzzAvQjgzGQ9"
      },
      "source": [
        "**Logistic Model by statistic apporach**"
      ]
    },
    {
      "cell_type": "code",
      "metadata": {
        "id": "bYk8HtMxy9qi"
      },
      "source": [
        "#________________________________sm model to see p_values \n",
        "x1 = X_train_os[cols] "
      ],
      "execution_count": null,
      "outputs": []
    },
    {
      "cell_type": "code",
      "metadata": {
        "colab": {
          "base_uri": "https://localhost:8080/"
        },
        "id": "nsiBeVuizIgI",
        "outputId": "371c8097-2d02-4704-c1ad-9e633fc811d8"
      },
      "source": [
        "x1.info()"
      ],
      "execution_count": null,
      "outputs": [
        {
          "output_type": "stream",
          "name": "stdout",
          "text": [
            "<class 'pandas.core.frame.DataFrame'>\n",
            "Int64Index: 13520 entries, 7681 to 4646\n",
            "Data columns (total 2 columns):\n",
            " #   Column                        Non-Null Count  Dtype\n",
            "---  ------                        --------------  -----\n",
            " 0   Type_L                        13520 non-null  uint8\n",
            " 1   Failure_Type_Random Failures  13520 non-null  uint8\n",
            "dtypes: uint8(2)\n",
            "memory usage: 132.0 KB\n"
          ]
        }
      ]
    },
    {
      "cell_type": "code",
      "metadata": {
        "colab": {
          "base_uri": "https://localhost:8080/"
        },
        "id": "pQZjLdAlzLpM",
        "outputId": "79568b49-b58f-4a3e-c44a-51a746ae08c4"
      },
      "source": [
        "y_train_os.info()"
      ],
      "execution_count": null,
      "outputs": [
        {
          "output_type": "stream",
          "name": "stdout",
          "text": [
            "<class 'pandas.core.frame.DataFrame'>\n",
            "Int64Index: 13520 entries, 7681 to 4646\n",
            "Data columns (total 1 columns):\n",
            " #   Column  Non-Null Count  Dtype\n",
            "---  ------  --------------  -----\n",
            " 0   Target  13520 non-null  int64\n",
            "dtypes: int64(1)\n",
            "memory usage: 211.2 KB\n"
          ]
        }
      ]
    },
    {
      "cell_type": "code",
      "metadata": {
        "colab": {
          "base_uri": "https://localhost:8080/"
        },
        "id": "uZi1soYAzOru",
        "outputId": "d3c45058-c7f6-4a7a-ed39-66d415cb515c"
      },
      "source": [
        "y_train_os.value_counts()"
      ],
      "execution_count": null,
      "outputs": [
        {
          "output_type": "execute_result",
          "data": {
            "text/plain": [
              "Target\n",
              "1         6760\n",
              "0         6760\n",
              "dtype: int64"
            ]
          },
          "metadata": {},
          "execution_count": 46
        }
      ]
    },
    {
      "cell_type": "code",
      "metadata": {
        "id": "YBMJG3dRzQ24"
      },
      "source": [
        "y1 = y_train_os"
      ],
      "execution_count": null,
      "outputs": []
    },
    {
      "cell_type": "code",
      "metadata": {
        "colab": {
          "base_uri": "https://localhost:8080/",
          "height": 423
        },
        "id": "00zmHVGrzSyv",
        "outputId": "b7423739-793e-4ee3-eb7d-407de3bbe43b"
      },
      "source": [
        "y1"
      ],
      "execution_count": null,
      "outputs": [
        {
          "output_type": "execute_result",
          "data": {
            "text/html": [
              "<div>\n",
              "<style scoped>\n",
              "    .dataframe tbody tr th:only-of-type {\n",
              "        vertical-align: middle;\n",
              "    }\n",
              "\n",
              "    .dataframe tbody tr th {\n",
              "        vertical-align: top;\n",
              "    }\n",
              "\n",
              "    .dataframe thead th {\n",
              "        text-align: right;\n",
              "    }\n",
              "</style>\n",
              "<table border=\"1\" class=\"dataframe\">\n",
              "  <thead>\n",
              "    <tr style=\"text-align: right;\">\n",
              "      <th></th>\n",
              "      <th>Target</th>\n",
              "    </tr>\n",
              "  </thead>\n",
              "  <tbody>\n",
              "    <tr>\n",
              "      <th>7681</th>\n",
              "      <td>0</td>\n",
              "    </tr>\n",
              "    <tr>\n",
              "      <th>9031</th>\n",
              "      <td>0</td>\n",
              "    </tr>\n",
              "    <tr>\n",
              "      <th>3691</th>\n",
              "      <td>0</td>\n",
              "    </tr>\n",
              "    <tr>\n",
              "      <th>202</th>\n",
              "      <td>0</td>\n",
              "    </tr>\n",
              "    <tr>\n",
              "      <th>5625</th>\n",
              "      <td>0</td>\n",
              "    </tr>\n",
              "    <tr>\n",
              "      <th>...</th>\n",
              "      <td>...</td>\n",
              "    </tr>\n",
              "    <tr>\n",
              "      <th>4527</th>\n",
              "      <td>1</td>\n",
              "    </tr>\n",
              "    <tr>\n",
              "      <th>3266</th>\n",
              "      <td>1</td>\n",
              "    </tr>\n",
              "    <tr>\n",
              "      <th>6540</th>\n",
              "      <td>1</td>\n",
              "    </tr>\n",
              "    <tr>\n",
              "      <th>3528</th>\n",
              "      <td>1</td>\n",
              "    </tr>\n",
              "    <tr>\n",
              "      <th>4646</th>\n",
              "      <td>1</td>\n",
              "    </tr>\n",
              "  </tbody>\n",
              "</table>\n",
              "<p>13520 rows × 1 columns</p>\n",
              "</div>"
            ],
            "text/plain": [
              "      Target\n",
              "7681       0\n",
              "9031       0\n",
              "3691       0\n",
              "202        0\n",
              "5625       0\n",
              "...      ...\n",
              "4527       1\n",
              "3266       1\n",
              "6540       1\n",
              "3528       1\n",
              "4646       1\n",
              "\n",
              "[13520 rows x 1 columns]"
            ]
          },
          "metadata": {},
          "execution_count": 48
        }
      ]
    },
    {
      "cell_type": "code",
      "metadata": {
        "id": "W599mDVFzTUW"
      },
      "source": [
        "#____________Stats model\n",
        "import statsmodels.api as sm"
      ],
      "execution_count": null,
      "outputs": []
    },
    {
      "cell_type": "code",
      "metadata": {
        "colab": {
          "base_uri": "https://localhost:8080/"
        },
        "id": "2b4nUeoVzVty",
        "outputId": "b1a1e5b7-95f1-44c3-e0e4-c9992cb57a3c"
      },
      "source": [
        "x1.info()"
      ],
      "execution_count": null,
      "outputs": [
        {
          "output_type": "stream",
          "name": "stdout",
          "text": [
            "<class 'pandas.core.frame.DataFrame'>\n",
            "Int64Index: 13520 entries, 7681 to 4646\n",
            "Data columns (total 2 columns):\n",
            " #   Column                        Non-Null Count  Dtype\n",
            "---  ------                        --------------  -----\n",
            " 0   Type_L                        13520 non-null  uint8\n",
            " 1   Failure_Type_Random Failures  13520 non-null  uint8\n",
            "dtypes: uint8(2)\n",
            "memory usage: 132.0 KB\n"
          ]
        }
      ]
    },
    {
      "cell_type": "code",
      "metadata": {
        "colab": {
          "base_uri": "https://localhost:8080/"
        },
        "id": "paZEm_9WzX-E",
        "outputId": "59a51073-8b7e-4ecc-ca37-7d6e850bde69"
      },
      "source": [
        "y1.info()"
      ],
      "execution_count": null,
      "outputs": [
        {
          "output_type": "stream",
          "name": "stdout",
          "text": [
            "<class 'pandas.core.frame.DataFrame'>\n",
            "Int64Index: 13520 entries, 7681 to 4646\n",
            "Data columns (total 1 columns):\n",
            " #   Column  Non-Null Count  Dtype\n",
            "---  ------  --------------  -----\n",
            " 0   Target  13520 non-null  int64\n",
            "dtypes: int64(1)\n",
            "memory usage: 211.2 KB\n"
          ]
        }
      ]
    },
    {
      "cell_type": "code",
      "metadata": {
        "id": "qeOJHE2EzZcw"
      },
      "source": [
        "logit_model = sm.Logit(y1,x1)"
      ],
      "execution_count": null,
      "outputs": []
    },
    {
      "cell_type": "code",
      "metadata": {
        "colab": {
          "base_uri": "https://localhost:8080/"
        },
        "id": "EPw8eKTDzlRC",
        "outputId": "9c2a4bd8-31b7-4874-9436-77964f2af7b6"
      },
      "source": [
        "result = logit_model.fit(method='bfgs')"
      ],
      "execution_count": null,
      "outputs": [
        {
          "output_type": "stream",
          "name": "stdout",
          "text": [
            "Optimization terminated successfully.\n",
            "         Current function value: 0.165894\n",
            "         Iterations: 21\n",
            "         Function evaluations: 22\n",
            "         Gradient evaluations: 22\n"
          ]
        }
      ]
    },
    {
      "cell_type": "code",
      "metadata": {
        "id": "bIu2K6mTzodh",
        "colab": {
          "base_uri": "https://localhost:8080/"
        },
        "outputId": "54b8e486-3ed1-4b7a-b50b-01d2a2f35051"
      },
      "source": [
        "print(result.summary2())"
      ],
      "execution_count": null,
      "outputs": [
        {
          "output_type": "stream",
          "name": "stdout",
          "text": [
            "                               Results: Logit\n",
            "=============================================================================\n",
            "Model:                   Logit                Pseudo R-squared:     0.761    \n",
            "Dependent Variable:      Target               AIC:                  4489.7701\n",
            "Date:                    2021-11-29 11:22     BIC:                  4504.7940\n",
            "No. Observations:        13520                Log-Likelihood:       -2242.9  \n",
            "Df Model:                1                    LL-Null:              -9371.3  \n",
            "Df Residuals:            13518                LLR p-value:          0.0000   \n",
            "Converged:               1.0000               Scale:                1.0000   \n",
            "-----------------------------------------------------------------------------\n",
            "                              Coef.  Std.Err.    z     P>|z|   [0.025  0.975]\n",
            "-----------------------------------------------------------------------------\n",
            "Type_L                        4.2784   0.1269  33.7243 0.0000  4.0297  4.5270\n",
            "Failure_Type_Random Failures -8.0638   0.1644 -49.0608 0.0000 -8.3859 -7.7416\n",
            "=============================================================================\n",
            "\n"
          ]
        }
      ]
    },
    {
      "cell_type": "markdown",
      "metadata": {
        "id": "Z2paFYPhMSUp"
      },
      "source": [
        "**Logistic model by SK learn method**"
      ]
    },
    {
      "cell_type": "code",
      "metadata": {
        "id": "rSuW6rBnMIQh"
      },
      "source": [
        "from sklearn.linear_model import LogisticRegression\n",
        "from sklearn import metrics"
      ],
      "execution_count": null,
      "outputs": []
    },
    {
      "cell_type": "code",
      "metadata": {
        "colab": {
          "base_uri": "https://localhost:8080/"
        },
        "id": "10Xua_qKMUdY",
        "outputId": "3291fc63-d269-4545-80f1-017e5bf7c473"
      },
      "source": [
        "logreg= LogisticRegression(solver= 'sag')\n",
        "logreg.fit(x1, y1)"
      ],
      "execution_count": null,
      "outputs": [
        {
          "output_type": "stream",
          "name": "stderr",
          "text": [
            "/usr/local/lib/python3.7/dist-packages/sklearn/utils/validation.py:985: DataConversionWarning: A column-vector y was passed when a 1d array was expected. Please change the shape of y to (n_samples, ), for example using ravel().\n",
            "  y = column_or_1d(y, warn=True)\n"
          ]
        },
        {
          "output_type": "execute_result",
          "data": {
            "text/plain": [
              "LogisticRegression(solver='sag')"
            ]
          },
          "metadata": {},
          "execution_count": 56
        }
      ]
    },
    {
      "cell_type": "code",
      "metadata": {
        "id": "YMvOskc6MY4S"
      },
      "source": [
        "## X_test should alsso have only 2 columns\n",
        "X_test2= X_test[cols]"
      ],
      "execution_count": null,
      "outputs": []
    },
    {
      "cell_type": "code",
      "metadata": {
        "colab": {
          "base_uri": "https://localhost:8080/"
        },
        "id": "o24X4gaEMpv5",
        "outputId": "20d549ff-ecd3-4f2f-9d3a-25fa30e45483"
      },
      "source": [
        "X_test2.info()"
      ],
      "execution_count": null,
      "outputs": [
        {
          "output_type": "stream",
          "name": "stdout",
          "text": [
            "<class 'pandas.core.frame.DataFrame'>\n",
            "Int64Index: 3000 entries, 9394 to 5233\n",
            "Data columns (total 2 columns):\n",
            " #   Column                        Non-Null Count  Dtype\n",
            "---  ------                        --------------  -----\n",
            " 0   Type_L                        3000 non-null   uint8\n",
            " 1   Failure_Type_Random Failures  3000 non-null   uint8\n",
            "dtypes: uint8(2)\n",
            "memory usage: 29.3 KB\n"
          ]
        }
      ]
    },
    {
      "cell_type": "code",
      "metadata": {
        "id": "F9l5K7PzMsV0"
      },
      "source": [
        "y_pred= logreg.predict(X_test2)"
      ],
      "execution_count": null,
      "outputs": []
    },
    {
      "cell_type": "code",
      "metadata": {
        "id": "3id0F_aLMxPB"
      },
      "source": [
        "log_score= logreg.score(X_test2, y_test)"
      ],
      "execution_count": null,
      "outputs": []
    },
    {
      "cell_type": "code",
      "metadata": {
        "colab": {
          "base_uri": "https://localhost:8080/"
        },
        "id": "jaJbB4ecM0Tf",
        "outputId": "bbd0a3e3-0bf5-4007-a076-5cf955784005"
      },
      "source": [
        "print(\"Accuracy of logistic regression classifier on test data:{}\".format(log_score))"
      ],
      "execution_count": null,
      "outputs": [
        {
          "output_type": "stream",
          "name": "stdout",
          "text": [
            "Accuracy of logistic regression classifier on test data:0.998\n"
          ]
        }
      ]
    },
    {
      "cell_type": "code",
      "metadata": {
        "id": "y8gHF22WM3ZD"
      },
      "source": [
        "from sklearn.metrics import confusion_matrix"
      ],
      "execution_count": null,
      "outputs": []
    },
    {
      "cell_type": "code",
      "metadata": {
        "colab": {
          "base_uri": "https://localhost:8080/"
        },
        "id": "sbNErInrM6n6",
        "outputId": "a7df3b98-cd54-4b39-b4c3-07c07e0c14c9"
      },
      "source": [
        "confusion_matrix = confusion_matrix(y_test, y_pred)\n",
        "print(confusion_matrix)"
      ],
      "execution_count": null,
      "outputs": [
        {
          "output_type": "stream",
          "name": "stdout",
          "text": [
            "[[2901    0]\n",
            " [   6   93]]\n"
          ]
        }
      ]
    },
    {
      "cell_type": "code",
      "metadata": {
        "colab": {
          "base_uri": "https://localhost:8080/"
        },
        "id": "UPNi1dP2M9GB",
        "outputId": "f217662b-1bca-431b-8976-cc9a7e5698d0"
      },
      "source": [
        "from sklearn.metrics import classification_report\n",
        "print(classification_report(y_test, y_pred))"
      ],
      "execution_count": null,
      "outputs": [
        {
          "output_type": "stream",
          "name": "stdout",
          "text": [
            "              precision    recall  f1-score   support\n",
            "\n",
            "           0       1.00      1.00      1.00      2901\n",
            "           1       1.00      0.94      0.97        99\n",
            "\n",
            "    accuracy                           1.00      3000\n",
            "   macro avg       1.00      0.97      0.98      3000\n",
            "weighted avg       1.00      1.00      1.00      3000\n",
            "\n"
          ]
        }
      ]
    },
    {
      "cell_type": "code",
      "metadata": {
        "id": "tLt3iy9INBDo"
      },
      "source": [
        "from sklearn.metrics import roc_auc_score\n",
        "from sklearn.metrics import roc_curve"
      ],
      "execution_count": null,
      "outputs": []
    },
    {
      "cell_type": "code",
      "metadata": {
        "colab": {
          "base_uri": "https://localhost:8080/"
        },
        "id": "EYhjvyElNINF",
        "outputId": "c594c170-60bb-42da-f728-46160fec7ed0"
      },
      "source": [
        "logit_roc_auc = roc_auc_score(y_test, logreg.predict(X_test2))\n",
        "logit_roc_auc"
      ],
      "execution_count": null,
      "outputs": [
        {
          "output_type": "execute_result",
          "data": {
            "text/plain": [
              "0.9696969696969697"
            ]
          },
          "metadata": {},
          "execution_count": 66
        }
      ]
    },
    {
      "cell_type": "code",
      "metadata": {
        "id": "R1pc77x4NKhO"
      },
      "source": [
        "\"\"  Area under curve is 0.96   \"\""
      ],
      "execution_count": null,
      "outputs": []
    },
    {
      "cell_type": "code",
      "metadata": {
        "colab": {
          "base_uri": "https://localhost:8080/",
          "height": 295
        },
        "id": "3SM0HfTHNSzU",
        "outputId": "98283f2e-9487-44b7-d20b-51a8f5b42e6f"
      },
      "source": [
        "fpr, tpr, thresholds = roc_curve(y_test, logreg.predict_proba(X_test2)[:,1])\n",
        "plt.figure()\n",
        "plt.plot(fpr, tpr, label='Logistic Regression (area = %0.2f)' % logit_roc_auc)\n",
        "plt.plot([0, 1], [0, 1],'r--')\n",
        "plt.xlim([-0.1, 1.0])\n",
        "plt.ylim([0.0, 1.05])\n",
        "plt.xlabel('False Positive Rate (1-specificity)')\n",
        "plt.ylabel('True Positive Rate (Sensitivity)')\n",
        "plt.title('ROC - AUC for Logistic Model')\n",
        "plt.legend(loc=\"lower right\")\n",
        "plt.savefig('Log_ROC')\n",
        "plt.show()"
      ],
      "execution_count": null,
      "outputs": [
        {
          "output_type": "display_data",
          "data": {
            "image/png": "[encoded data removed]",
            "text/plain": [
              "<Figure size 432x288 with 1 Axes>"
            ]
          },
          "metadata": {
            "needs_background": "light"
          }
        }
      ]
    },
    {
      "cell_type": "markdown",
      "metadata": {
        "id": "ut47GWk8UV1L"
      },
      "source": [
        "**Decision Tree Model **"
      ]
    },
    {
      "cell_type": "code",
      "metadata": {
        "colab": {
          "base_uri": "https://localhost:8080/"
        },
        "id": "_TzOzeAYNWoL",
        "outputId": "58c2a285-570c-432e-d8ff-a9c538292d4c"
      },
      "source": [
        "df.info()"
      ],
      "execution_count": null,
      "outputs": [
        {
          "output_type": "stream",
          "name": "stdout",
          "text": [
            "<class 'pandas.core.frame.DataFrame'>\n",
            "RangeIndex: 10000 entries, 0 to 9999\n",
            "Data columns (total 8 columns):\n",
            " #   Column            Non-Null Count  Dtype  \n",
            "---  ------            --------------  -----  \n",
            " 0   Type              10000 non-null  object \n",
            " 1   Air_temp          10000 non-null  float64\n",
            " 2   Process_temp      10000 non-null  float64\n",
            " 3   Rotational_speed  10000 non-null  float64\n",
            " 4   Torque            10000 non-null  float64\n",
            " 5   Tool_wear         10000 non-null  int64  \n",
            " 6   Target            10000 non-null  int64  \n",
            " 7   Failure_Type      10000 non-null  object \n",
            "dtypes: float64(4), int64(2), object(2)\n",
            "memory usage: 625.1+ KB\n"
          ]
        }
      ]
    },
    {
      "cell_type": "code",
      "metadata": {
        "id": "cRYPOAViYBX1"
      },
      "source": [
        "df2=df[:]"
      ],
      "execution_count": null,
      "outputs": []
    },
    {
      "cell_type": "code",
      "metadata": {
        "colab": {
          "base_uri": "https://localhost:8080/"
        },
        "id": "aUKgbc1xYP_-",
        "outputId": "ca8c5727-ab1b-4578-f205-455c8f2111db"
      },
      "source": [
        "df2.info()"
      ],
      "execution_count": null,
      "outputs": [
        {
          "output_type": "stream",
          "name": "stdout",
          "text": [
            "<class 'pandas.core.frame.DataFrame'>\n",
            "RangeIndex: 10000 entries, 0 to 9999\n",
            "Data columns (total 8 columns):\n",
            " #   Column            Non-Null Count  Dtype  \n",
            "---  ------            --------------  -----  \n",
            " 0   Type              10000 non-null  object \n",
            " 1   Air_temp          10000 non-null  float64\n",
            " 2   Process_temp      10000 non-null  float64\n",
            " 3   Rotational_speed  10000 non-null  float64\n",
            " 4   Torque            10000 non-null  float64\n",
            " 5   Tool_wear         10000 non-null  int64  \n",
            " 6   Target            10000 non-null  int64  \n",
            " 7   Failure_Type      10000 non-null  object \n",
            "dtypes: float64(4), int64(2), object(2)\n",
            "memory usage: 625.1+ KB\n"
          ]
        }
      ]
    },
    {
      "cell_type": "code",
      "metadata": {
        "colab": {
          "base_uri": "https://localhost:8080/"
        },
        "id": "eLsaLLemaSlL",
        "outputId": "e162e12c-4997-434c-9429-2f74305f5a85"
      },
      "source": [
        "df2.Type.value_counts()"
      ],
      "execution_count": null,
      "outputs": [
        {
          "output_type": "execute_result",
          "data": {
            "text/plain": [
              "L    6000\n",
              "H    4000\n",
              "Name: Type, dtype: int64"
            ]
          },
          "metadata": {},
          "execution_count": 71
        }
      ]
    },
    {
      "cell_type": "code",
      "metadata": {
        "colab": {
          "base_uri": "https://localhost:8080/"
        },
        "id": "FdD6nJhmai1Z",
        "outputId": "7f5c07ef-c7db-48a5-d4a9-49ef85af6325"
      },
      "source": [
        "df2['Type'].replace('L', '1', inplace = True)\n",
        "df2['Type'].replace('H', '2', inplace = True)"
      ],
      "execution_count": null,
      "outputs": [
        {
          "output_type": "stream",
          "name": "stderr",
          "text": [
            "/usr/local/lib/python3.7/dist-packages/pandas/core/series.py:4582: SettingWithCopyWarning: \n",
            "A value is trying to be set on a copy of a slice from a DataFrame\n",
            "\n",
            "See the caveats in the documentation: https://pandas.pydata.org/pandas-docs/stable/user_guide/indexing.html#returning-a-view-versus-a-copy\n",
            "  method=method,\n"
          ]
        }
      ]
    },
    {
      "cell_type": "code",
      "metadata": {
        "colab": {
          "base_uri": "https://localhost:8080/"
        },
        "id": "eiGXHZb3bYT0",
        "outputId": "9516d8f2-7eac-4af7-82ae-4085daec4ba2"
      },
      "source": [
        "df2.Type.value_counts()"
      ],
      "execution_count": null,
      "outputs": [
        {
          "output_type": "execute_result",
          "data": {
            "text/plain": [
              "1    6000\n",
              "2    4000\n",
              "Name: Type, dtype: int64"
            ]
          },
          "metadata": {},
          "execution_count": 73
        }
      ]
    },
    {
      "cell_type": "code",
      "metadata": {
        "colab": {
          "base_uri": "https://localhost:8080/"
        },
        "id": "6aQbV5z0bbne",
        "outputId": "65fab348-9c7f-43e3-e757-b8e0d7742ea4"
      },
      "source": [
        "df2.Failure_Type.value_counts()"
      ],
      "execution_count": null,
      "outputs": [
        {
          "output_type": "execute_result",
          "data": {
            "text/plain": [
              "Random Failures             9670\n",
              "Heat Dissipation Failure     330\n",
              "Name: Failure_Type, dtype: int64"
            ]
          },
          "metadata": {},
          "execution_count": 74
        }
      ]
    },
    {
      "cell_type": "code",
      "metadata": {
        "colab": {
          "base_uri": "https://localhost:8080/"
        },
        "id": "nIuN8xiJbkhl",
        "outputId": "979e74b7-69fe-43a1-98d2-5c248aafd656"
      },
      "source": [
        "df2['Failure_Type'].replace('Random Failures','1',inplace = True)\n",
        "df2['Failure_Type'].replace('Heat Dissipation Failure','2',inplace = True)"
      ],
      "execution_count": null,
      "outputs": [
        {
          "output_type": "stream",
          "name": "stderr",
          "text": [
            "/usr/local/lib/python3.7/dist-packages/pandas/core/series.py:4582: SettingWithCopyWarning: \n",
            "A value is trying to be set on a copy of a slice from a DataFrame\n",
            "\n",
            "See the caveats in the documentation: https://pandas.pydata.org/pandas-docs/stable/user_guide/indexing.html#returning-a-view-versus-a-copy\n",
            "  method=method,\n"
          ]
        }
      ]
    },
    {
      "cell_type": "code",
      "metadata": {
        "colab": {
          "base_uri": "https://localhost:8080/"
        },
        "id": "hQBnT_58ki4T",
        "outputId": "e80489e6-0afb-44b6-a306-ddfce7b5eaac"
      },
      "source": [
        "df2.Failure_Type.value_counts()"
      ],
      "execution_count": null,
      "outputs": [
        {
          "output_type": "execute_result",
          "data": {
            "text/plain": [
              "1    9670\n",
              "2     330\n",
              "Name: Failure_Type, dtype: int64"
            ]
          },
          "metadata": {},
          "execution_count": 76
        }
      ]
    },
    {
      "cell_type": "code",
      "metadata": {
        "id": "fJuhfcPtWDqp"
      },
      "source": [
        "from sklearn.preprocessing import LabelEncoder\n",
        "LE= LabelEncoder()"
      ],
      "execution_count": null,
      "outputs": []
    },
    {
      "cell_type": "code",
      "metadata": {
        "colab": {
          "base_uri": "https://localhost:8080/",
          "height": 423
        },
        "id": "TnI0SUPlWGYY",
        "outputId": "df72febb-bce3-41b4-8ed0-47ec2c1c7d2d"
      },
      "source": [
        "df2['Type']= LE.fit_transform(df2['Type'])\n",
        "df2['Failure_Type']= LE.fit_transform(df2['Failure_Type'])\n",
        "df2"
      ],
      "execution_count": null,
      "outputs": [
        {
          "output_type": "execute_result",
          "data": {
            "text/html": [
              "<div>\n",
              "<style scoped>\n",
              "    .dataframe tbody tr th:only-of-type {\n",
              "        vertical-align: middle;\n",
              "    }\n",
              "\n",
              "    .dataframe tbody tr th {\n",
              "        vertical-align: top;\n",
              "    }\n",
              "\n",
              "    .dataframe thead th {\n",
              "        text-align: right;\n",
              "    }\n",
              "</style>\n",
              "<table border=\"1\" class=\"dataframe\">\n",
              "  <thead>\n",
              "    <tr style=\"text-align: right;\">\n",
              "      <th></th>\n",
              "      <th>Type</th>\n",
              "      <th>Air_temp</th>\n",
              "      <th>Process_temp</th>\n",
              "      <th>Rotational_speed</th>\n",
              "      <th>Torque</th>\n",
              "      <th>Tool_wear</th>\n",
              "      <th>Target</th>\n",
              "      <th>Failure_Type</th>\n",
              "    </tr>\n",
              "  </thead>\n",
              "  <tbody>\n",
              "    <tr>\n",
              "      <th>0</th>\n",
              "      <td>1</td>\n",
              "      <td>298.1</td>\n",
              "      <td>308.6</td>\n",
              "      <td>1551.0</td>\n",
              "      <td>42.8</td>\n",
              "      <td>0</td>\n",
              "      <td>0</td>\n",
              "      <td>0</td>\n",
              "    </tr>\n",
              "    <tr>\n",
              "      <th>1</th>\n",
              "      <td>0</td>\n",
              "      <td>298.2</td>\n",
              "      <td>308.7</td>\n",
              "      <td>1408.0</td>\n",
              "      <td>46.3</td>\n",
              "      <td>3</td>\n",
              "      <td>0</td>\n",
              "      <td>0</td>\n",
              "    </tr>\n",
              "    <tr>\n",
              "      <th>2</th>\n",
              "      <td>0</td>\n",
              "      <td>298.1</td>\n",
              "      <td>308.5</td>\n",
              "      <td>1498.0</td>\n",
              "      <td>49.4</td>\n",
              "      <td>5</td>\n",
              "      <td>0</td>\n",
              "      <td>0</td>\n",
              "    </tr>\n",
              "    <tr>\n",
              "      <th>3</th>\n",
              "      <td>0</td>\n",
              "      <td>298.2</td>\n",
              "      <td>308.6</td>\n",
              "      <td>1433.0</td>\n",
              "      <td>39.5</td>\n",
              "      <td>7</td>\n",
              "      <td>0</td>\n",
              "      <td>0</td>\n",
              "    </tr>\n",
              "    <tr>\n",
              "      <th>4</th>\n",
              "      <td>0</td>\n",
              "      <td>298.2</td>\n",
              "      <td>308.7</td>\n",
              "      <td>1408.0</td>\n",
              "      <td>40.0</td>\n",
              "      <td>9</td>\n",
              "      <td>0</td>\n",
              "      <td>0</td>\n",
              "    </tr>\n",
              "    <tr>\n",
              "      <th>...</th>\n",
              "      <td>...</td>\n",
              "      <td>...</td>\n",
              "      <td>...</td>\n",
              "      <td>...</td>\n",
              "      <td>...</td>\n",
              "      <td>...</td>\n",
              "      <td>...</td>\n",
              "      <td>...</td>\n",
              "    </tr>\n",
              "    <tr>\n",
              "      <th>9995</th>\n",
              "      <td>1</td>\n",
              "      <td>298.8</td>\n",
              "      <td>308.4</td>\n",
              "      <td>1604.0</td>\n",
              "      <td>29.5</td>\n",
              "      <td>14</td>\n",
              "      <td>0</td>\n",
              "      <td>0</td>\n",
              "    </tr>\n",
              "    <tr>\n",
              "      <th>9996</th>\n",
              "      <td>1</td>\n",
              "      <td>298.9</td>\n",
              "      <td>308.4</td>\n",
              "      <td>1632.0</td>\n",
              "      <td>31.8</td>\n",
              "      <td>17</td>\n",
              "      <td>0</td>\n",
              "      <td>0</td>\n",
              "    </tr>\n",
              "    <tr>\n",
              "      <th>9997</th>\n",
              "      <td>1</td>\n",
              "      <td>299.0</td>\n",
              "      <td>308.6</td>\n",
              "      <td>1645.0</td>\n",
              "      <td>33.4</td>\n",
              "      <td>22</td>\n",
              "      <td>0</td>\n",
              "      <td>0</td>\n",
              "    </tr>\n",
              "    <tr>\n",
              "      <th>9998</th>\n",
              "      <td>1</td>\n",
              "      <td>299.0</td>\n",
              "      <td>308.7</td>\n",
              "      <td>1408.0</td>\n",
              "      <td>48.5</td>\n",
              "      <td>25</td>\n",
              "      <td>0</td>\n",
              "      <td>0</td>\n",
              "    </tr>\n",
              "    <tr>\n",
              "      <th>9999</th>\n",
              "      <td>1</td>\n",
              "      <td>299.0</td>\n",
              "      <td>308.7</td>\n",
              "      <td>1500.0</td>\n",
              "      <td>40.2</td>\n",
              "      <td>30</td>\n",
              "      <td>0</td>\n",
              "      <td>0</td>\n",
              "    </tr>\n",
              "  </tbody>\n",
              "</table>\n",
              "<p>10000 rows × 8 columns</p>\n",
              "</div>"
            ],
            "text/plain": [
              "      Type  Air_temp  Process_temp  ...  Tool_wear  Target  Failure_Type\n",
              "0        1     298.1         308.6  ...          0       0             0\n",
              "1        0     298.2         308.7  ...          3       0             0\n",
              "2        0     298.1         308.5  ...          5       0             0\n",
              "3        0     298.2         308.6  ...          7       0             0\n",
              "4        0     298.2         308.7  ...          9       0             0\n",
              "...    ...       ...           ...  ...        ...     ...           ...\n",
              "9995     1     298.8         308.4  ...         14       0             0\n",
              "9996     1     298.9         308.4  ...         17       0             0\n",
              "9997     1     299.0         308.6  ...         22       0             0\n",
              "9998     1     299.0         308.7  ...         25       0             0\n",
              "9999     1     299.0         308.7  ...         30       0             0\n",
              "\n",
              "[10000 rows x 8 columns]"
            ]
          },
          "metadata": {},
          "execution_count": 78
        }
      ]
    },
    {
      "cell_type": "code",
      "metadata": {
        "id": "hw0JTJfjUUgt"
      },
      "source": [
        "X = df2.loc[:, df2.columns != 'Target']\n",
        "y = df2.loc[:, df2.columns == 'Target']"
      ],
      "execution_count": null,
      "outputs": []
    },
    {
      "cell_type": "code",
      "metadata": {
        "colab": {
          "base_uri": "https://localhost:8080/"
        },
        "id": "iZrcq2tiUtPm",
        "outputId": "0a875516-3d35-45b6-8187-dd70c7c9cf2f"
      },
      "source": [
        "X.info()"
      ],
      "execution_count": null,
      "outputs": [
        {
          "output_type": "stream",
          "name": "stdout",
          "text": [
            "<class 'pandas.core.frame.DataFrame'>\n",
            "RangeIndex: 10000 entries, 0 to 9999\n",
            "Data columns (total 7 columns):\n",
            " #   Column            Non-Null Count  Dtype  \n",
            "---  ------            --------------  -----  \n",
            " 0   Type              10000 non-null  int64  \n",
            " 1   Air_temp          10000 non-null  float64\n",
            " 2   Process_temp      10000 non-null  float64\n",
            " 3   Rotational_speed  10000 non-null  float64\n",
            " 4   Torque            10000 non-null  float64\n",
            " 5   Tool_wear         10000 non-null  int64  \n",
            " 6   Failure_Type      10000 non-null  int64  \n",
            "dtypes: float64(4), int64(3)\n",
            "memory usage: 547.0 KB\n"
          ]
        }
      ]
    },
    {
      "cell_type": "code",
      "metadata": {
        "colab": {
          "base_uri": "https://localhost:8080/",
          "height": 423
        },
        "id": "qe1DaVm9UviP",
        "outputId": "7fc3a154-6d54-4210-ecf1-4fc3d13f89e1"
      },
      "source": [
        "y"
      ],
      "execution_count": null,
      "outputs": [
        {
          "output_type": "execute_result",
          "data": {
            "text/html": [
              "<div>\n",
              "<style scoped>\n",
              "    .dataframe tbody tr th:only-of-type {\n",
              "        vertical-align: middle;\n",
              "    }\n",
              "\n",
              "    .dataframe tbody tr th {\n",
              "        vertical-align: top;\n",
              "    }\n",
              "\n",
              "    .dataframe thead th {\n",
              "        text-align: right;\n",
              "    }\n",
              "</style>\n",
              "<table border=\"1\" class=\"dataframe\">\n",
              "  <thead>\n",
              "    <tr style=\"text-align: right;\">\n",
              "      <th></th>\n",
              "      <th>Target</th>\n",
              "    </tr>\n",
              "  </thead>\n",
              "  <tbody>\n",
              "    <tr>\n",
              "      <th>0</th>\n",
              "      <td>0</td>\n",
              "    </tr>\n",
              "    <tr>\n",
              "      <th>1</th>\n",
              "      <td>0</td>\n",
              "    </tr>\n",
              "    <tr>\n",
              "      <th>2</th>\n",
              "      <td>0</td>\n",
              "    </tr>\n",
              "    <tr>\n",
              "      <th>3</th>\n",
              "      <td>0</td>\n",
              "    </tr>\n",
              "    <tr>\n",
              "      <th>4</th>\n",
              "      <td>0</td>\n",
              "    </tr>\n",
              "    <tr>\n",
              "      <th>...</th>\n",
              "      <td>...</td>\n",
              "    </tr>\n",
              "    <tr>\n",
              "      <th>9995</th>\n",
              "      <td>0</td>\n",
              "    </tr>\n",
              "    <tr>\n",
              "      <th>9996</th>\n",
              "      <td>0</td>\n",
              "    </tr>\n",
              "    <tr>\n",
              "      <th>9997</th>\n",
              "      <td>0</td>\n",
              "    </tr>\n",
              "    <tr>\n",
              "      <th>9998</th>\n",
              "      <td>0</td>\n",
              "    </tr>\n",
              "    <tr>\n",
              "      <th>9999</th>\n",
              "      <td>0</td>\n",
              "    </tr>\n",
              "  </tbody>\n",
              "</table>\n",
              "<p>10000 rows × 1 columns</p>\n",
              "</div>"
            ],
            "text/plain": [
              "      Target\n",
              "0          0\n",
              "1          0\n",
              "2          0\n",
              "3          0\n",
              "4          0\n",
              "...      ...\n",
              "9995       0\n",
              "9996       0\n",
              "9997       0\n",
              "9998       0\n",
              "9999       0\n",
              "\n",
              "[10000 rows x 1 columns]"
            ]
          },
          "metadata": {},
          "execution_count": 81
        }
      ]
    },
    {
      "cell_type": "code",
      "metadata": {
        "id": "FhTftIclUwE0"
      },
      "source": [
        "'''Fit Tree'''\n",
        "#train test - split \n",
        "\n",
        "from sklearn.model_selection import train_test_split"
      ],
      "execution_count": null,
      "outputs": []
    },
    {
      "cell_type": "code",
      "metadata": {
        "id": "WeyN1IQ8Uzh2"
      },
      "source": [
        "X_train, X_test, y_train, y_test = train_test_split(X, y, test_size=0.3, random_state=0)"
      ],
      "execution_count": null,
      "outputs": []
    },
    {
      "cell_type": "code",
      "metadata": {
        "id": "gtKqYP-3U280"
      },
      "source": [
        "from sklearn.tree import DecisionTreeClassifier"
      ],
      "execution_count": null,
      "outputs": []
    },
    {
      "cell_type": "code",
      "metadata": {
        "id": "RKqHb34mU55p"
      },
      "source": [
        "#fit tree on train data\n",
        "#model\n",
        "clf = DecisionTreeClassifier()"
      ],
      "execution_count": null,
      "outputs": []
    },
    {
      "cell_type": "code",
      "metadata": {
        "colab": {
          "base_uri": "https://localhost:8080/"
        },
        "id": "u4O_TOnMU8dm",
        "outputId": "e80d07b5-a068-4c5f-b28d-18dd22383401"
      },
      "source": [
        "#Fit Classifier model on train set \n",
        "clf.fit(X_train, y_train)"
      ],
      "execution_count": null,
      "outputs": [
        {
          "output_type": "execute_result",
          "data": {
            "text/plain": [
              "DecisionTreeClassifier()"
            ]
          },
          "metadata": {},
          "execution_count": 86
        }
      ]
    },
    {
      "cell_type": "code",
      "metadata": {
        "id": "0VXL-arEU_Y4"
      },
      "source": [
        "#Predict/estimate_train  X_train\n",
        "y_pred_train = clf.predict(X_train)"
      ],
      "execution_count": null,
      "outputs": []
    },
    {
      "cell_type": "code",
      "metadata": {
        "colab": {
          "base_uri": "https://localhost:8080/"
        },
        "id": "pEtRrH-aku5D",
        "outputId": "0dbe928b-7358-4e03-fa81-3aa56d353d37"
      },
      "source": [
        "y_pred_train"
      ],
      "execution_count": null,
      "outputs": [
        {
          "output_type": "execute_result",
          "data": {
            "text/plain": [
              "array([0, 0, 0, ..., 0, 0, 0])"
            ]
          },
          "metadata": {},
          "execution_count": 88
        }
      ]
    },
    {
      "cell_type": "code",
      "metadata": {
        "id": "yQS33MHMkxVA"
      },
      "source": [
        "#Predict/estimate_test  X_test\n",
        "y_pred_test = clf.predict(X_test)"
      ],
      "execution_count": null,
      "outputs": []
    },
    {
      "cell_type": "code",
      "metadata": {
        "colab": {
          "base_uri": "https://localhost:8080/"
        },
        "id": "OxA_qriIkzVU",
        "outputId": "c383d8ed-c1c1-40c4-e024-3c4179ae6fee"
      },
      "source": [
        "y_pred_test"
      ],
      "execution_count": null,
      "outputs": [
        {
          "output_type": "execute_result",
          "data": {
            "text/plain": [
              "array([0, 0, 0, ..., 0, 0, 0])"
            ]
          },
          "metadata": {},
          "execution_count": 90
        }
      ]
    },
    {
      "cell_type": "code",
      "metadata": {
        "id": "u8IRxYp7k1c_"
      },
      "source": [
        "#See the train \n",
        "from sklearn import tree"
      ],
      "execution_count": null,
      "outputs": []
    },
    {
      "cell_type": "code",
      "metadata": {
        "colab": {
          "base_uri": "https://localhost:8080/",
          "height": 692
        },
        "id": "uP3dUo_jk3j8",
        "outputId": "18bc6db9-0750-4080-b951-03e980e65244"
      },
      "source": [
        "tree.plot_tree(clf.fit(X_train, y_train))"
      ],
      "execution_count": null,
      "outputs": [
        {
          "output_type": "execute_result",
          "data": {
            "text/plain": [
              "[Text(223.2, 203.85, 'X[6] <= 0.5\\ngini = 0.066\\nsamples = 7000\\nvalue = [6760, 240]'),\n",
              " Text(200.88, 176.67000000000002, 'X[1] <= 303.55\\ngini = 0.001\\nsamples = 6763\\nvalue = [6760, 3]'),\n",
              " Text(111.6, 149.49, 'X[4] <= 27.35\\ngini = 0.001\\nsamples = 6432\\nvalue = [6430, 2]'),\n",
              " Text(44.64, 122.31, 'X[4] <= 27.25\\ngini = 0.003\\nsamples = 640\\nvalue = [639, 1]'),\n",
              " Text(22.32, 95.13, 'gini = 0.0\\nsamples = 621\\nvalue = [621, 0]'),\n",
              " Text(66.96000000000001, 95.13, 'X[5] <= 140.5\\ngini = 0.1\\nsamples = 19\\nvalue = [18, 1]'),\n",
              " Text(44.64, 67.94999999999999, 'gini = 0.0\\nsamples = 14\\nvalue = [14, 0]'),\n",
              " Text(89.28, 67.94999999999999, 'X[5] <= 166.5\\ngini = 0.32\\nsamples = 5\\nvalue = [4, 1]'),\n",
              " Text(66.96000000000001, 40.77000000000001, 'gini = 0.0\\nsamples = 1\\nvalue = [0, 1]'),\n",
              " Text(111.6, 40.77000000000001, 'gini = 0.0\\nsamples = 4\\nvalue = [4, 0]'),\n",
              " Text(178.56, 122.31, 'X[5] <= 20.5\\ngini = 0.0\\nsamples = 5792\\nvalue = [5791, 1]'),\n",
              " Text(156.24, 95.13, 'X[5] <= 19.5\\ngini = 0.003\\nsamples = 623\\nvalue = [622, 1]'),\n",
              " Text(133.92000000000002, 67.94999999999999, 'gini = 0.0\\nsamples = 588\\nvalue = [588, 0]'),\n",
              " Text(178.56, 67.94999999999999, 'X[4] <= 47.55\\ngini = 0.056\\nsamples = 35\\nvalue = [34, 1]'),\n",
              " Text(156.24, 40.77000000000001, 'gini = 0.0\\nsamples = 30\\nvalue = [30, 0]'),\n",
              " Text(200.88, 40.77000000000001, 'X[4] <= 48.2\\ngini = 0.32\\nsamples = 5\\nvalue = [4, 1]'),\n",
              " Text(178.56, 13.590000000000003, 'gini = 0.0\\nsamples = 1\\nvalue = [0, 1]'),\n",
              " Text(223.2, 13.590000000000003, 'gini = 0.0\\nsamples = 4\\nvalue = [4, 0]'),\n",
              " Text(200.88, 95.13, 'gini = 0.0\\nsamples = 5169\\nvalue = [5169, 0]'),\n",
              " Text(290.16, 149.49, 'X[2] <= 311.85\\ngini = 0.006\\nsamples = 331\\nvalue = [330, 1]'),\n",
              " Text(267.84000000000003, 122.31, 'X[3] <= 1426.5\\ngini = 0.18\\nsamples = 10\\nvalue = [9, 1]'),\n",
              " Text(245.52, 95.13, 'gini = 0.0\\nsamples = 1\\nvalue = [0, 1]'),\n",
              " Text(290.16, 95.13, 'gini = 0.0\\nsamples = 9\\nvalue = [9, 0]'),\n",
              " Text(312.48, 122.31, 'gini = 0.0\\nsamples = 321\\nvalue = [321, 0]'),\n",
              " Text(245.52, 176.67000000000002, 'gini = 0.0\\nsamples = 237\\nvalue = [0, 237]')]"
            ]
          },
          "metadata": {},
          "execution_count": 92
        },
        {
          "output_type": "display_data",
          "data": {
            "image/png": "[encoded data removed]",
            "text/plain": [
              "<Figure size 432x288 with 1 Axes>"
            ]
          },
          "metadata": {
            "needs_background": "light"
          }
        }
      ]
    },
    {
      "cell_type": "code",
      "metadata": {
        "id": "evav_ny4k6Vl"
      },
      "source": [
        "#Model has learnt unneccesaary things \n",
        "#Need to optimize\n",
        "\n",
        "from sklearn.metrics import accuracy_score"
      ],
      "execution_count": null,
      "outputs": []
    },
    {
      "cell_type": "code",
      "metadata": {
        "colab": {
          "base_uri": "https://localhost:8080/"
        },
        "id": "ILZo-2Bgk-cd",
        "outputId": "727ca377-2df2-4b57-a27e-961de6075e04"
      },
      "source": [
        "print(round(accuracy_score(y_train,y_pred_train), 2))"
      ],
      "execution_count": null,
      "outputs": [
        {
          "output_type": "stream",
          "name": "stdout",
          "text": [
            "1.0\n"
          ]
        }
      ]
    },
    {
      "cell_type": "code",
      "metadata": {
        "colab": {
          "base_uri": "https://localhost:8080/"
        },
        "id": "3h9KK_1vlAhp",
        "outputId": "d7757739-f5c9-4411-8669-a71713b02144"
      },
      "source": [
        "print(round(accuracy_score(y_test,y_pred_test), 2))"
      ],
      "execution_count": null,
      "outputs": [
        {
          "output_type": "stream",
          "name": "stdout",
          "text": [
            "1.0\n"
          ]
        }
      ]
    },
    {
      "cell_type": "code",
      "metadata": {
        "id": "RoptChF_lEQ2"
      },
      "source": [
        "# Accuracy of train data is 1\n",
        "# Accuracy of test data is 1"
      ],
      "execution_count": null,
      "outputs": []
    },
    {
      "cell_type": "code",
      "metadata": {
        "id": "hB_R8NQrlaYv"
      },
      "source": [
        "from sklearn import tree"
      ],
      "execution_count": null,
      "outputs": []
    },
    {
      "cell_type": "code",
      "metadata": {
        "id": "kXGtxOAYlcv-"
      },
      "source": [
        "path = clf.cost_complexity_pruning_path(X_train, y_train)\n"
      ],
      "execution_count": null,
      "outputs": []
    },
    {
      "cell_type": "code",
      "metadata": {
        "colab": {
          "base_uri": "https://localhost:8080/"
        },
        "id": "kjYcGXx_lgHJ",
        "outputId": "09fc91bc-4df6-47ef-b8ec-72647302e5dc"
      },
      "source": [
        "path"
      ],
      "execution_count": null,
      "outputs": [
        {
          "output_type": "execute_result",
          "data": {
            "text/plain": [
              "{'ccp_alphas': array([0.00000000e+00, 7.14063611e-05, 9.51705829e-05, 6.53636455e-02]),\n",
              " 'impurities': array([0.        , 0.00057125, 0.00085676, 0.06622041])}"
            ]
          },
          "metadata": {},
          "execution_count": 98
        }
      ]
    },
    {
      "cell_type": "code",
      "metadata": {
        "id": "hH6y_GgVlkxa"
      },
      "source": [
        "alphas = path['ccp_alphas']"
      ],
      "execution_count": null,
      "outputs": []
    },
    {
      "cell_type": "code",
      "metadata": {
        "colab": {
          "base_uri": "https://localhost:8080/"
        },
        "id": "FDTmoVRBloDj",
        "outputId": "bed571ae-7038-4a23-9688-307e90ceda6d"
      },
      "source": [
        "alphas"
      ],
      "execution_count": null,
      "outputs": [
        {
          "output_type": "execute_result",
          "data": {
            "text/plain": [
              "array([0.00000000e+00, 7.14063611e-05, 9.51705829e-05, 6.53636455e-02])"
            ]
          },
          "metadata": {},
          "execution_count": 100
        }
      ]
    },
    {
      "cell_type": "code",
      "metadata": {
        "id": "gz_ZIeFYlqQT"
      },
      "source": [
        "acrcy_train, acrcy_test = [],[]\n",
        "for i in alphas:\n",
        "    clf = DecisionTreeClassifier(ccp_alpha=i)    \n",
        "    \n",
        "    clf.fit(X_train, y_train)\n",
        "    y_pred_train = clf.predict(X_train)\n",
        "    y_pred_test = clf.predict(X_test)\n",
        "    \n",
        "    acrcy_train.append(accuracy_score(y_train, y_pred_train))\n",
        "    acrcy_test.append(accuracy_score(y_test,y_pred_test))"
      ],
      "execution_count": null,
      "outputs": []
    },
    {
      "cell_type": "code",
      "metadata": {
        "colab": {
          "base_uri": "https://localhost:8080/"
        },
        "id": "-etBV1I-lw5j",
        "outputId": "646205c2-3a9b-4f5e-8822-64091f1e176e"
      },
      "source": [
        "acrcy_train"
      ],
      "execution_count": null,
      "outputs": [
        {
          "output_type": "execute_result",
          "data": {
            "text/plain": [
              "[1.0, 0.9997142857142857, 0.9995714285714286, 0.9657142857142857]"
            ]
          },
          "metadata": {},
          "execution_count": 102
        }
      ]
    },
    {
      "cell_type": "code",
      "metadata": {
        "colab": {
          "base_uri": "https://localhost:8080/"
        },
        "id": "aoWilBu1lzKd",
        "outputId": "08da533f-0396-47b7-ada9-351cb287e1d0"
      },
      "source": [
        "acrcy_test"
      ],
      "execution_count": null,
      "outputs": [
        {
          "output_type": "execute_result",
          "data": {
            "text/plain": [
              "[0.998, 0.998, 0.998, 0.967]"
            ]
          },
          "metadata": {},
          "execution_count": 103
        }
      ]
    },
    {
      "cell_type": "code",
      "metadata": {
        "colab": {
          "base_uri": "https://localhost:8080/",
          "height": 448
        },
        "id": "BpQKsruwl17d",
        "outputId": "eacb1af1-8989-4635-b1ab-819c3d851e18"
      },
      "source": [
        "# now we have scores\n",
        "# lets, plot\n",
        "\n",
        "sns.set()\n",
        "plt.figure(figsize = (14,7))\n",
        "sns.lineplot(y =acrcy_train, x = alphas, label = 'Train_Accuracy')\n",
        "sns.lineplot(y =acrcy_test, x = alphas, label = 'Test_Accuracy')\n",
        "plt.xticks(ticks=np.arange(0.00,0.05,0.01))\n",
        "plt.xlabel('alphas')\n",
        "plt.ylabel('accuracy')\n",
        "plt.show()"
      ],
      "execution_count": null,
      "outputs": [
        {
          "output_type": "display_data",
          "data": {
            "image/png": "[encoded data removed]",
            "text/plain": [
              "<Figure size 1008x504 with 1 Axes>"
            ]
          },
          "metadata": {}
        }
      ]
    },
    {
      "cell_type": "code",
      "metadata": {
        "id": "k5r_Ws-il-iZ"
      },
      "source": [
        "#_________with ccp = 0.035\n",
        "clf = DecisionTreeClassifier(ccp_alpha=0.035, random_state = 14)"
      ],
      "execution_count": null,
      "outputs": []
    },
    {
      "cell_type": "code",
      "metadata": {
        "colab": {
          "base_uri": "https://localhost:8080/"
        },
        "id": "WeXpS3BnmKoq",
        "outputId": "8a33398d-875b-48bb-b4dc-098e2d6eea93"
      },
      "source": [
        "clf.fit(X_train,y_train)"
      ],
      "execution_count": null,
      "outputs": [
        {
          "output_type": "execute_result",
          "data": {
            "text/plain": [
              "DecisionTreeClassifier(ccp_alpha=0.035, random_state=14)"
            ]
          },
          "metadata": {},
          "execution_count": 106
        }
      ]
    },
    {
      "cell_type": "code",
      "metadata": {
        "id": "CQCjwuitmTf5"
      },
      "source": [
        "y_pred_train = clf.predict(X_train)"
      ],
      "execution_count": null,
      "outputs": []
    },
    {
      "cell_type": "code",
      "metadata": {
        "id": "RJ10SLtmmWb7"
      },
      "source": [
        "y_pred_test = clf.predict(X_test)"
      ],
      "execution_count": null,
      "outputs": []
    },
    {
      "cell_type": "code",
      "metadata": {
        "colab": {
          "base_uri": "https://localhost:8080/"
        },
        "id": "vHXV0Hh-mY3M",
        "outputId": "5746097a-c922-4bf4-e73c-ce51eee81548"
      },
      "source": [
        "from sklearn.metrics import accuracy_score\n",
        "print(round(accuracy_score(y_train,y_pred_train), 2))"
      ],
      "execution_count": null,
      "outputs": [
        {
          "output_type": "stream",
          "name": "stdout",
          "text": [
            "1.0\n"
          ]
        }
      ]
    },
    {
      "cell_type": "code",
      "metadata": {
        "colab": {
          "base_uri": "https://localhost:8080/"
        },
        "id": "_ow3hJfSmckA",
        "outputId": "c2963811-04e8-4978-d3de-5ea04769ebb9"
      },
      "source": [
        "print(round(accuracy_score(y_test,y_pred_test), 2))"
      ],
      "execution_count": null,
      "outputs": [
        {
          "output_type": "stream",
          "name": "stdout",
          "text": [
            "1.0\n"
          ]
        }
      ]
    },
    {
      "cell_type": "code",
      "metadata": {
        "id": "xlGQMH_Zme1w"
      },
      "source": [
        "### Confusion Matrix\n",
        "from sklearn.metrics import confusion_matrix\n",
        "from sklearn.metrics import classification_report"
      ],
      "execution_count": null,
      "outputs": []
    },
    {
      "cell_type": "code",
      "metadata": {
        "colab": {
          "base_uri": "https://localhost:8080/"
        },
        "id": "GJdmQ_KDnSqT",
        "outputId": "495a60cb-9cd1-4539-bb50-db2e763a391c"
      },
      "source": [
        "confusion_matrix = confusion_matrix(y_test, y_pred_test)\n",
        "print(confusion_matrix)"
      ],
      "execution_count": null,
      "outputs": [
        {
          "output_type": "stream",
          "name": "stdout",
          "text": [
            "[[2901    0]\n",
            " [   6   93]]\n"
          ]
        }
      ]
    },
    {
      "cell_type": "code",
      "metadata": {
        "id": "WWaL0WCsnWGW"
      },
      "source": [
        "### Classification Report\n",
        "from sklearn.metrics import classification_report"
      ],
      "execution_count": null,
      "outputs": []
    },
    {
      "cell_type": "code",
      "metadata": {
        "colab": {
          "base_uri": "https://localhost:8080/"
        },
        "id": "94-8slUanZBg",
        "outputId": "93014450-69ce-43d2-973e-9a797fbad0b7"
      },
      "source": [
        "print(classification_report(y_test, y_pred_test))"
      ],
      "execution_count": null,
      "outputs": [
        {
          "output_type": "stream",
          "name": "stdout",
          "text": [
            "              precision    recall  f1-score   support\n",
            "\n",
            "           0       1.00      1.00      1.00      2901\n",
            "           1       1.00      0.94      0.97        99\n",
            "\n",
            "    accuracy                           1.00      3000\n",
            "   macro avg       1.00      0.97      0.98      3000\n",
            "weighted avg       1.00      1.00      1.00      3000\n",
            "\n"
          ]
        }
      ]
    },
    {
      "cell_type": "code",
      "metadata": {
        "id": "3wda61eZnbKG"
      },
      "source": [
        "###########################  ROC AUC Curve \n",
        "\n",
        "from sklearn.metrics import roc_auc_score\n",
        "from sklearn.metrics import roc_curve\n",
        "from sklearn.metrics import roc_curve, auc, roc_auc_score"
      ],
      "execution_count": null,
      "outputs": []
    },
    {
      "cell_type": "code",
      "metadata": {
        "id": "vtl1iT3_nhH8"
      },
      "source": [
        "predictedProbability = clf.predict_proba(X_test)[:, 1]\n",
        "fpr,tpr, thresholds = metrics.roc_curve(y_test, predictedProbability)\n"
      ],
      "execution_count": null,
      "outputs": []
    },
    {
      "cell_type": "code",
      "metadata": {
        "colab": {
          "base_uri": "https://localhost:8080/"
        },
        "id": "JyMz11m2njy4",
        "outputId": "2f26ec6f-52ab-4249-9a58-e92ec6e284bf"
      },
      "source": [
        "fpr"
      ],
      "execution_count": null,
      "outputs": [
        {
          "output_type": "execute_result",
          "data": {
            "text/plain": [
              "array([0., 0., 1.])"
            ]
          },
          "metadata": {},
          "execution_count": 117
        }
      ]
    },
    {
      "cell_type": "code",
      "metadata": {
        "colab": {
          "base_uri": "https://localhost:8080/"
        },
        "id": "l7sCM4pYnmj6",
        "outputId": "1cdc8cfc-3f8a-4747-f9dd-f91509b13ce5"
      },
      "source": [
        "tpr"
      ],
      "execution_count": null,
      "outputs": [
        {
          "output_type": "execute_result",
          "data": {
            "text/plain": [
              "array([0.        , 0.93939394, 1.        ])"
            ]
          },
          "metadata": {},
          "execution_count": 118
        }
      ]
    },
    {
      "cell_type": "code",
      "metadata": {
        "colab": {
          "base_uri": "https://localhost:8080/"
        },
        "id": "srUp2-u2nnpj",
        "outputId": "6aacbdd0-eeee-4579-f182-463d4ade1451"
      },
      "source": [
        "thresholds"
      ],
      "execution_count": null,
      "outputs": [
        {
          "output_type": "execute_result",
          "data": {
            "text/plain": [
              "array([2.00000000e+00, 1.00000000e+00, 4.43590123e-04])"
            ]
          },
          "metadata": {},
          "execution_count": 119
        }
      ]
    },
    {
      "cell_type": "code",
      "metadata": {
        "colab": {
          "base_uri": "https://localhost:8080/"
        },
        "id": "UBv1CsiOnqa7",
        "outputId": "28f46052-8d6e-43fb-9d2f-b216a031568d"
      },
      "source": [
        "dff = pd.DataFrame(dict(fpr = fpr,tpr = tpr))\n",
        "auc = auc(fpr,tpr)\n",
        "auc"
      ],
      "execution_count": null,
      "outputs": [
        {
          "output_type": "execute_result",
          "data": {
            "text/plain": [
              "0.9696969696969697"
            ]
          },
          "metadata": {},
          "execution_count": 120
        }
      ]
    },
    {
      "cell_type": "code",
      "metadata": {
        "colab": {
          "base_uri": "https://localhost:8080/",
          "height": 301
        },
        "id": "w6jTgergntZo",
        "outputId": "1fd42b6f-aaba-410e-bf8b-20e876c3eb27"
      },
      "source": [
        "plt.figure()\n",
        "lw = 2\n",
        "plt.plot(fpr, tpr, color = 'darkorange',\n",
        "         lw =lw, label = 'ROC Curve (area = %0.2f)' %auc)\n",
        "plt.plot([0,1],[0,1], color='navy', lw = lw, linestyle = '--')\n",
        "plt.xlim([-0.1, 1.0])\n",
        "plt.ylim([0.0, 1.1])\n",
        "plt.xlabel('1-Specificity(False Positive Rate)')\n",
        "plt.ylabel('Sensitivity(True Positive Rate)')\n",
        "plt.title(\"ROC - AUC for Decision Tree Model\")\n",
        "plt.legend(loc = \"lower right\")\n",
        "plt.show()"
      ],
      "execution_count": null,
      "outputs": [
        {
          "output_type": "display_data",
          "data": {
            "image/png": "[encoded data removed]",
            "text/plain": [
              "<Figure size 432x288 with 1 Axes>"
            ]
          },
          "metadata": {}
        }
      ]
    },
    {
      "cell_type": "markdown",
      "metadata": {
        "id": "Oe7rRMRGn2l2"
      },
      "source": [
        "**Random Forest**"
      ]
    },
    {
      "cell_type": "code",
      "metadata": {
        "colab": {
          "base_uri": "https://localhost:8080/"
        },
        "id": "d0v4RbXYnwbo",
        "outputId": "6a4de309-81f6-4f45-c5bb-6e2639687e2a"
      },
      "source": [
        "df.info()"
      ],
      "execution_count": null,
      "outputs": [
        {
          "output_type": "stream",
          "name": "stdout",
          "text": [
            "<class 'pandas.core.frame.DataFrame'>\n",
            "RangeIndex: 10000 entries, 0 to 9999\n",
            "Data columns (total 8 columns):\n",
            " #   Column            Non-Null Count  Dtype  \n",
            "---  ------            --------------  -----  \n",
            " 0   Type              10000 non-null  object \n",
            " 1   Air_temp          10000 non-null  float64\n",
            " 2   Process_temp      10000 non-null  float64\n",
            " 3   Rotational_speed  10000 non-null  float64\n",
            " 4   Torque            10000 non-null  float64\n",
            " 5   Tool_wear         10000 non-null  int64  \n",
            " 6   Target            10000 non-null  int64  \n",
            " 7   Failure_Type      10000 non-null  object \n",
            "dtypes: float64(4), int64(2), object(2)\n",
            "memory usage: 625.1+ KB\n"
          ]
        }
      ]
    },
    {
      "cell_type": "code",
      "metadata": {
        "id": "mp6hysWBoML_"
      },
      "source": [
        "df2=df[:]"
      ],
      "execution_count": null,
      "outputs": []
    },
    {
      "cell_type": "code",
      "metadata": {
        "colab": {
          "base_uri": "https://localhost:8080/"
        },
        "id": "vJfII_fnsOn-",
        "outputId": "becf65eb-893b-41f4-a3e8-9f5b530015b0"
      },
      "source": [
        "df2.info()"
      ],
      "execution_count": null,
      "outputs": [
        {
          "output_type": "stream",
          "name": "stdout",
          "text": [
            "<class 'pandas.core.frame.DataFrame'>\n",
            "RangeIndex: 10000 entries, 0 to 9999\n",
            "Data columns (total 8 columns):\n",
            " #   Column            Non-Null Count  Dtype  \n",
            "---  ------            --------------  -----  \n",
            " 0   Type              10000 non-null  object \n",
            " 1   Air_temp          10000 non-null  float64\n",
            " 2   Process_temp      10000 non-null  float64\n",
            " 3   Rotational_speed  10000 non-null  float64\n",
            " 4   Torque            10000 non-null  float64\n",
            " 5   Tool_wear         10000 non-null  int64  \n",
            " 6   Target            10000 non-null  int64  \n",
            " 7   Failure_Type      10000 non-null  object \n",
            "dtypes: float64(4), int64(2), object(2)\n",
            "memory usage: 625.1+ KB\n"
          ]
        }
      ]
    },
    {
      "cell_type": "code",
      "metadata": {
        "colab": {
          "base_uri": "https://localhost:8080/"
        },
        "id": "zNs-FXaerClm",
        "outputId": "46c82785-779e-4d58-f03a-f763e4643a9a"
      },
      "source": [
        "df2.Type.value_counts()"
      ],
      "execution_count": null,
      "outputs": [
        {
          "output_type": "execute_result",
          "data": {
            "text/plain": [
              "1    6000\n",
              "2    4000\n",
              "Name: Type, dtype: int64"
            ]
          },
          "metadata": {},
          "execution_count": 125
        }
      ]
    },
    {
      "cell_type": "code",
      "metadata": {
        "colab": {
          "base_uri": "https://localhost:8080/"
        },
        "id": "o5bAGAWAsQNr",
        "outputId": "9c16819e-5a21-4faa-e92f-7085da823e0d"
      },
      "source": [
        "df2.Type.value_counts()"
      ],
      "execution_count": null,
      "outputs": [
        {
          "output_type": "execute_result",
          "data": {
            "text/plain": [
              "1    6000\n",
              "2    4000\n",
              "Name: Type, dtype: int64"
            ]
          },
          "metadata": {},
          "execution_count": 126
        }
      ]
    },
    {
      "cell_type": "code",
      "metadata": {
        "id": "DtcNLzyusdsI"
      },
      "source": [
        "from sklearn.preprocessing import LabelEncoder\n",
        "LE= LabelEncoder()\n"
      ],
      "execution_count": null,
      "outputs": []
    },
    {
      "cell_type": "code",
      "metadata": {
        "colab": {
          "base_uri": "https://localhost:8080/",
          "height": 423
        },
        "id": "4d1V5KnesrkF",
        "outputId": "e4212ef7-64df-4496-b287-510472a6ffab"
      },
      "source": [
        "df2['Type']= LE.fit_transform(df2['Type'])\n",
        "df2['Failure_Type']= LE.fit_transform(df2['Failure_Type'])\n",
        "df2"
      ],
      "execution_count": null,
      "outputs": [
        {
          "output_type": "execute_result",
          "data": {
            "text/html": [
              "<div>\n",
              "<style scoped>\n",
              "    .dataframe tbody tr th:only-of-type {\n",
              "        vertical-align: middle;\n",
              "    }\n",
              "\n",
              "    .dataframe tbody tr th {\n",
              "        vertical-align: top;\n",
              "    }\n",
              "\n",
              "    .dataframe thead th {\n",
              "        text-align: right;\n",
              "    }\n",
              "</style>\n",
              "<table border=\"1\" class=\"dataframe\">\n",
              "  <thead>\n",
              "    <tr style=\"text-align: right;\">\n",
              "      <th></th>\n",
              "      <th>Type</th>\n",
              "      <th>Air_temp</th>\n",
              "      <th>Process_temp</th>\n",
              "      <th>Rotational_speed</th>\n",
              "      <th>Torque</th>\n",
              "      <th>Tool_wear</th>\n",
              "      <th>Target</th>\n",
              "      <th>Failure_Type</th>\n",
              "    </tr>\n",
              "  </thead>\n",
              "  <tbody>\n",
              "    <tr>\n",
              "      <th>0</th>\n",
              "      <td>1</td>\n",
              "      <td>298.1</td>\n",
              "      <td>308.6</td>\n",
              "      <td>1551.0</td>\n",
              "      <td>42.8</td>\n",
              "      <td>0</td>\n",
              "      <td>0</td>\n",
              "      <td>0</td>\n",
              "    </tr>\n",
              "    <tr>\n",
              "      <th>1</th>\n",
              "      <td>0</td>\n",
              "      <td>298.2</td>\n",
              "      <td>308.7</td>\n",
              "      <td>1408.0</td>\n",
              "      <td>46.3</td>\n",
              "      <td>3</td>\n",
              "      <td>0</td>\n",
              "      <td>0</td>\n",
              "    </tr>\n",
              "    <tr>\n",
              "      <th>2</th>\n",
              "      <td>0</td>\n",
              "      <td>298.1</td>\n",
              "      <td>308.5</td>\n",
              "      <td>1498.0</td>\n",
              "      <td>49.4</td>\n",
              "      <td>5</td>\n",
              "      <td>0</td>\n",
              "      <td>0</td>\n",
              "    </tr>\n",
              "    <tr>\n",
              "      <th>3</th>\n",
              "      <td>0</td>\n",
              "      <td>298.2</td>\n",
              "      <td>308.6</td>\n",
              "      <td>1433.0</td>\n",
              "      <td>39.5</td>\n",
              "      <td>7</td>\n",
              "      <td>0</td>\n",
              "      <td>0</td>\n",
              "    </tr>\n",
              "    <tr>\n",
              "      <th>4</th>\n",
              "      <td>0</td>\n",
              "      <td>298.2</td>\n",
              "      <td>308.7</td>\n",
              "      <td>1408.0</td>\n",
              "      <td>40.0</td>\n",
              "      <td>9</td>\n",
              "      <td>0</td>\n",
              "      <td>0</td>\n",
              "    </tr>\n",
              "    <tr>\n",
              "      <th>...</th>\n",
              "      <td>...</td>\n",
              "      <td>...</td>\n",
              "      <td>...</td>\n",
              "      <td>...</td>\n",
              "      <td>...</td>\n",
              "      <td>...</td>\n",
              "      <td>...</td>\n",
              "      <td>...</td>\n",
              "    </tr>\n",
              "    <tr>\n",
              "      <th>9995</th>\n",
              "      <td>1</td>\n",
              "      <td>298.8</td>\n",
              "      <td>308.4</td>\n",
              "      <td>1604.0</td>\n",
              "      <td>29.5</td>\n",
              "      <td>14</td>\n",
              "      <td>0</td>\n",
              "      <td>0</td>\n",
              "    </tr>\n",
              "    <tr>\n",
              "      <th>9996</th>\n",
              "      <td>1</td>\n",
              "      <td>298.9</td>\n",
              "      <td>308.4</td>\n",
              "      <td>1632.0</td>\n",
              "      <td>31.8</td>\n",
              "      <td>17</td>\n",
              "      <td>0</td>\n",
              "      <td>0</td>\n",
              "    </tr>\n",
              "    <tr>\n",
              "      <th>9997</th>\n",
              "      <td>1</td>\n",
              "      <td>299.0</td>\n",
              "      <td>308.6</td>\n",
              "      <td>1645.0</td>\n",
              "      <td>33.4</td>\n",
              "      <td>22</td>\n",
              "      <td>0</td>\n",
              "      <td>0</td>\n",
              "    </tr>\n",
              "    <tr>\n",
              "      <th>9998</th>\n",
              "      <td>1</td>\n",
              "      <td>299.0</td>\n",
              "      <td>308.7</td>\n",
              "      <td>1408.0</td>\n",
              "      <td>48.5</td>\n",
              "      <td>25</td>\n",
              "      <td>0</td>\n",
              "      <td>0</td>\n",
              "    </tr>\n",
              "    <tr>\n",
              "      <th>9999</th>\n",
              "      <td>1</td>\n",
              "      <td>299.0</td>\n",
              "      <td>308.7</td>\n",
              "      <td>1500.0</td>\n",
              "      <td>40.2</td>\n",
              "      <td>30</td>\n",
              "      <td>0</td>\n",
              "      <td>0</td>\n",
              "    </tr>\n",
              "  </tbody>\n",
              "</table>\n",
              "<p>10000 rows × 8 columns</p>\n",
              "</div>"
            ],
            "text/plain": [
              "      Type  Air_temp  Process_temp  ...  Tool_wear  Target  Failure_Type\n",
              "0        1     298.1         308.6  ...          0       0             0\n",
              "1        0     298.2         308.7  ...          3       0             0\n",
              "2        0     298.1         308.5  ...          5       0             0\n",
              "3        0     298.2         308.6  ...          7       0             0\n",
              "4        0     298.2         308.7  ...          9       0             0\n",
              "...    ...       ...           ...  ...        ...     ...           ...\n",
              "9995     1     298.8         308.4  ...         14       0             0\n",
              "9996     1     298.9         308.4  ...         17       0             0\n",
              "9997     1     299.0         308.6  ...         22       0             0\n",
              "9998     1     299.0         308.7  ...         25       0             0\n",
              "9999     1     299.0         308.7  ...         30       0             0\n",
              "\n",
              "[10000 rows x 8 columns]"
            ]
          },
          "metadata": {},
          "execution_count": 128
        }
      ]
    },
    {
      "cell_type": "code",
      "metadata": {
        "id": "kqx9dTGhs31H"
      },
      "source": [
        "X = df2.loc[:, df2.columns != 'Target']\n",
        "y = df2.loc[:, df2.columns == 'Target']"
      ],
      "execution_count": null,
      "outputs": []
    },
    {
      "cell_type": "code",
      "metadata": {
        "colab": {
          "base_uri": "https://localhost:8080/"
        },
        "id": "2_DDkd2rtCAw",
        "outputId": "c9b5e2bd-a01e-4dd7-8ebc-e6a1afc1f0fa"
      },
      "source": [
        "X.info()"
      ],
      "execution_count": null,
      "outputs": [
        {
          "output_type": "stream",
          "name": "stdout",
          "text": [
            "<class 'pandas.core.frame.DataFrame'>\n",
            "RangeIndex: 10000 entries, 0 to 9999\n",
            "Data columns (total 7 columns):\n",
            " #   Column            Non-Null Count  Dtype  \n",
            "---  ------            --------------  -----  \n",
            " 0   Type              10000 non-null  int64  \n",
            " 1   Air_temp          10000 non-null  float64\n",
            " 2   Process_temp      10000 non-null  float64\n",
            " 3   Rotational_speed  10000 non-null  float64\n",
            " 4   Torque            10000 non-null  float64\n",
            " 5   Tool_wear         10000 non-null  int64  \n",
            " 6   Failure_Type      10000 non-null  int64  \n",
            "dtypes: float64(4), int64(3)\n",
            "memory usage: 547.0 KB\n"
          ]
        }
      ]
    },
    {
      "cell_type": "code",
      "metadata": {
        "colab": {
          "base_uri": "https://localhost:8080/",
          "height": 423
        },
        "id": "s8grGLfCtDWR",
        "outputId": "8828357c-cfd3-4515-8a66-d8ca8b49f8ef"
      },
      "source": [
        "y"
      ],
      "execution_count": null,
      "outputs": [
        {
          "output_type": "execute_result",
          "data": {
            "text/html": [
              "<div>\n",
              "<style scoped>\n",
              "    .dataframe tbody tr th:only-of-type {\n",
              "        vertical-align: middle;\n",
              "    }\n",
              "\n",
              "    .dataframe tbody tr th {\n",
              "        vertical-align: top;\n",
              "    }\n",
              "\n",
              "    .dataframe thead th {\n",
              "        text-align: right;\n",
              "    }\n",
              "</style>\n",
              "<table border=\"1\" class=\"dataframe\">\n",
              "  <thead>\n",
              "    <tr style=\"text-align: right;\">\n",
              "      <th></th>\n",
              "      <th>Target</th>\n",
              "    </tr>\n",
              "  </thead>\n",
              "  <tbody>\n",
              "    <tr>\n",
              "      <th>0</th>\n",
              "      <td>0</td>\n",
              "    </tr>\n",
              "    <tr>\n",
              "      <th>1</th>\n",
              "      <td>0</td>\n",
              "    </tr>\n",
              "    <tr>\n",
              "      <th>2</th>\n",
              "      <td>0</td>\n",
              "    </tr>\n",
              "    <tr>\n",
              "      <th>3</th>\n",
              "      <td>0</td>\n",
              "    </tr>\n",
              "    <tr>\n",
              "      <th>4</th>\n",
              "      <td>0</td>\n",
              "    </tr>\n",
              "    <tr>\n",
              "      <th>...</th>\n",
              "      <td>...</td>\n",
              "    </tr>\n",
              "    <tr>\n",
              "      <th>9995</th>\n",
              "      <td>0</td>\n",
              "    </tr>\n",
              "    <tr>\n",
              "      <th>9996</th>\n",
              "      <td>0</td>\n",
              "    </tr>\n",
              "    <tr>\n",
              "      <th>9997</th>\n",
              "      <td>0</td>\n",
              "    </tr>\n",
              "    <tr>\n",
              "      <th>9998</th>\n",
              "      <td>0</td>\n",
              "    </tr>\n",
              "    <tr>\n",
              "      <th>9999</th>\n",
              "      <td>0</td>\n",
              "    </tr>\n",
              "  </tbody>\n",
              "</table>\n",
              "<p>10000 rows × 1 columns</p>\n",
              "</div>"
            ],
            "text/plain": [
              "      Target\n",
              "0          0\n",
              "1          0\n",
              "2          0\n",
              "3          0\n",
              "4          0\n",
              "...      ...\n",
              "9995       0\n",
              "9996       0\n",
              "9997       0\n",
              "9998       0\n",
              "9999       0\n",
              "\n",
              "[10000 rows x 1 columns]"
            ]
          },
          "metadata": {},
          "execution_count": 131
        }
      ]
    },
    {
      "cell_type": "code",
      "metadata": {
        "id": "G8vsdUIOtDuy"
      },
      "source": [
        "'''Fit Tree'''\n",
        "#train test - split \n",
        "\n",
        "from sklearn.model_selection import train_test_split"
      ],
      "execution_count": null,
      "outputs": []
    },
    {
      "cell_type": "code",
      "metadata": {
        "id": "8vzbr_WUuOK4"
      },
      "source": [
        "X_train, X_test, y_train, y_test = train_test_split(X, y, test_size=0.3, random_state=0)\n"
      ],
      "execution_count": null,
      "outputs": []
    },
    {
      "cell_type": "code",
      "metadata": {
        "id": "UB8xyMqJw3lp"
      },
      "source": [
        "#import the classifier\n",
        "from sklearn.ensemble import RandomForestClassifier\n"
      ],
      "execution_count": null,
      "outputs": []
    },
    {
      "cell_type": "code",
      "metadata": {
        "id": "RLHhZmQTzsM9"
      },
      "source": [
        "#Create Classifier object \n",
        "#in our previous experiment, we found ccp_alphas = 0.013 has the best accuarcy \n",
        "clf_rf = RandomForestClassifier(n_estimators =100, ccp_alpha= 0.035, random_state = 14)"
      ],
      "execution_count": null,
      "outputs": []
    },
    {
      "cell_type": "code",
      "metadata": {
        "colab": {
          "base_uri": "https://localhost:8080/"
        },
        "id": "bHLLpSue0Hl0",
        "outputId": "a8914511-5ea0-42af-d9c4-7d0e274397dd"
      },
      "source": [
        "#fit the classifier with x and y  data = train\n",
        "mod_rf = clf_rf.fit(X_train, y_train)"
      ],
      "execution_count": null,
      "outputs": [
        {
          "output_type": "stream",
          "name": "stderr",
          "text": [
            "/usr/local/lib/python3.7/dist-packages/ipykernel_launcher.py:2: DataConversionWarning: A column-vector y was passed when a 1d array was expected. Please change the shape of y to (n_samples,), for example using ravel().\n",
            "  \n"
          ]
        }
      ]
    },
    {
      "cell_type": "code",
      "metadata": {
        "colab": {
          "base_uri": "https://localhost:8080/"
        },
        "id": "xw8Jrm3E0KIR",
        "outputId": "e9562594-80c1-4a4c-bfe8-925267d592fa"
      },
      "source": [
        "#Prediction \n",
        "y_train_pred = mod_rf.predict(X_train)\n",
        "y_train_pred"
      ],
      "execution_count": null,
      "outputs": [
        {
          "output_type": "execute_result",
          "data": {
            "text/plain": [
              "array([0, 0, 0, ..., 0, 0, 0])"
            ]
          },
          "metadata": {},
          "execution_count": 137
        }
      ]
    },
    {
      "cell_type": "code",
      "metadata": {
        "colab": {
          "base_uri": "https://localhost:8080/"
        },
        "id": "5MG6Swtc0XHh",
        "outputId": "008cf2ec-20f1-4d21-ba7a-25d5764392ec"
      },
      "source": [
        "#Prediction \n",
        "y_test_pred = mod_rf.predict(X_test)\n",
        "y_test_pred"
      ],
      "execution_count": null,
      "outputs": [
        {
          "output_type": "execute_result",
          "data": {
            "text/plain": [
              "array([0, 0, 0, ..., 0, 0, 0])"
            ]
          },
          "metadata": {},
          "execution_count": 138
        }
      ]
    },
    {
      "cell_type": "code",
      "metadata": {
        "colab": {
          "base_uri": "https://localhost:8080/"
        },
        "id": "dWfI94oQ0lDz",
        "outputId": "26e5307b-d8f6-4572-c81e-665b2eba5cc4"
      },
      "source": [
        "from sklearn.metrics import accuracy_score\n",
        "\n",
        "print(round(accuracy_score(y_train,y_train_pred), 2))"
      ],
      "execution_count": null,
      "outputs": [
        {
          "output_type": "stream",
          "name": "stdout",
          "text": [
            "0.97\n"
          ]
        }
      ]
    },
    {
      "cell_type": "code",
      "metadata": {
        "colab": {
          "base_uri": "https://localhost:8080/"
        },
        "id": "8tRJmeds03zY",
        "outputId": "a7b9af23-a533-49f4-b422-6259a741f058"
      },
      "source": [
        "print(round(accuracy_score(y_test,y_test_pred), 2))"
      ],
      "execution_count": null,
      "outputs": [
        {
          "output_type": "stream",
          "name": "stdout",
          "text": [
            "0.97\n"
          ]
        }
      ]
    },
    {
      "cell_type": "code",
      "metadata": {
        "id": "ZCMa4k7206Fw"
      },
      "source": [
        "#_____________________________ Extract Feature Importance \n",
        "fi = pd.DataFrame({'feature': list(X_train.columns),\n",
        "                   'importance': mod_rf.feature_importances_}).\\\n",
        "    sort_values('importance', ascending = False)"
      ],
      "execution_count": null,
      "outputs": []
    },
    {
      "cell_type": "code",
      "metadata": {
        "colab": {
          "base_uri": "https://localhost:8080/",
          "height": 206
        },
        "id": "HBvU82Zg1DrL",
        "outputId": "06deb666-faf4-4b94-8f8c-931739a4532e"
      },
      "source": [
        "fi.head()"
      ],
      "execution_count": null,
      "outputs": [
        {
          "output_type": "execute_result",
          "data": {
            "text/html": [
              "<div>\n",
              "<style scoped>\n",
              "    .dataframe tbody tr th:only-of-type {\n",
              "        vertical-align: middle;\n",
              "    }\n",
              "\n",
              "    .dataframe tbody tr th {\n",
              "        vertical-align: top;\n",
              "    }\n",
              "\n",
              "    .dataframe thead th {\n",
              "        text-align: right;\n",
              "    }\n",
              "</style>\n",
              "<table border=\"1\" class=\"dataframe\">\n",
              "  <thead>\n",
              "    <tr style=\"text-align: right;\">\n",
              "      <th></th>\n",
              "      <th>feature</th>\n",
              "      <th>importance</th>\n",
              "    </tr>\n",
              "  </thead>\n",
              "  <tbody>\n",
              "    <tr>\n",
              "      <th>6</th>\n",
              "      <td>Failure_Type</td>\n",
              "      <td>1.0</td>\n",
              "    </tr>\n",
              "    <tr>\n",
              "      <th>0</th>\n",
              "      <td>Type</td>\n",
              "      <td>0.0</td>\n",
              "    </tr>\n",
              "    <tr>\n",
              "      <th>1</th>\n",
              "      <td>Air_temp</td>\n",
              "      <td>0.0</td>\n",
              "    </tr>\n",
              "    <tr>\n",
              "      <th>2</th>\n",
              "      <td>Process_temp</td>\n",
              "      <td>0.0</td>\n",
              "    </tr>\n",
              "    <tr>\n",
              "      <th>3</th>\n",
              "      <td>Rotational_speed</td>\n",
              "      <td>0.0</td>\n",
              "    </tr>\n",
              "  </tbody>\n",
              "</table>\n",
              "</div>"
            ],
            "text/plain": [
              "            feature  importance\n",
              "6      Failure_Type         1.0\n",
              "0              Type         0.0\n",
              "1          Air_temp         0.0\n",
              "2      Process_temp         0.0\n",
              "3  Rotational_speed         0.0"
            ]
          },
          "metadata": {},
          "execution_count": 142
        }
      ]
    },
    {
      "cell_type": "code",
      "metadata": {
        "id": "nzjyhCu21Xys"
      },
      "source": [
        "# Accuarcy 2 cells above is 0.97 & 0.97 for Train & test (respectively)\n",
        "# This accuracy is for having all columns as features in our model\n",
        "# Lets build a model keeping 1 best features \n",
        "# that is keeping Failure_Type only\n",
        "from sklearn.ensemble import RandomForestClassifier"
      ],
      "execution_count": null,
      "outputs": []
    },
    {
      "cell_type": "code",
      "metadata": {
        "id": "QxaqxNRC1yrj"
      },
      "source": [
        "#Create Classifier object \n",
        "#in our previous experiment Decision Tree model, \n",
        "#we found ccp_alphas = 0.035 has the best accuarcy \n",
        "clf_rf1 = RandomForestClassifier(n_estimators =100, ccp_alpha= 0.035, random_state = 14)"
      ],
      "execution_count": null,
      "outputs": []
    },
    {
      "cell_type": "code",
      "metadata": {
        "colab": {
          "base_uri": "https://localhost:8080/"
        },
        "id": "B6plOU7F2CGT",
        "outputId": "ac6690b8-0d61-4272-e89d-81376d1fb35a"
      },
      "source": [
        "# fit the classifier with x and y data=TRAIN, \n",
        "#this time with Failure_Type only\n",
        "X_train.info()"
      ],
      "execution_count": null,
      "outputs": [
        {
          "output_type": "stream",
          "name": "stdout",
          "text": [
            "<class 'pandas.core.frame.DataFrame'>\n",
            "Int64Index: 7000 entries, 7681 to 2732\n",
            "Data columns (total 7 columns):\n",
            " #   Column            Non-Null Count  Dtype  \n",
            "---  ------            --------------  -----  \n",
            " 0   Type              7000 non-null   int64  \n",
            " 1   Air_temp          7000 non-null   float64\n",
            " 2   Process_temp      7000 non-null   float64\n",
            " 3   Rotational_speed  7000 non-null   float64\n",
            " 4   Torque            7000 non-null   float64\n",
            " 5   Tool_wear         7000 non-null   int64  \n",
            " 6   Failure_Type      7000 non-null   int64  \n",
            "dtypes: float64(4), int64(3)\n",
            "memory usage: 437.5 KB\n"
          ]
        }
      ]
    },
    {
      "cell_type": "code",
      "metadata": {
        "colab": {
          "base_uri": "https://localhost:8080/"
        },
        "id": "5jDCOjUO2K1I",
        "outputId": "59f91f9a-6737-4bf8-b812-ec32bce894f0"
      },
      "source": [
        "X_train1 = X_train.iloc[ : ,[6]]\n",
        "X_train1.info()"
      ],
      "execution_count": null,
      "outputs": [
        {
          "output_type": "stream",
          "name": "stdout",
          "text": [
            "<class 'pandas.core.frame.DataFrame'>\n",
            "Int64Index: 7000 entries, 7681 to 2732\n",
            "Data columns (total 1 columns):\n",
            " #   Column        Non-Null Count  Dtype\n",
            "---  ------        --------------  -----\n",
            " 0   Failure_Type  7000 non-null   int64\n",
            "dtypes: int64(1)\n",
            "memory usage: 109.4 KB\n"
          ]
        }
      ]
    },
    {
      "cell_type": "code",
      "metadata": {
        "colab": {
          "base_uri": "https://localhost:8080/"
        },
        "id": "qiR9Fs8M2RTl",
        "outputId": "d16e8297-10f5-4a10-9659-9680b95229c7"
      },
      "source": [
        "mod_rf1 = clf_rf1.fit(X_train1, y_train)"
      ],
      "execution_count": null,
      "outputs": [
        {
          "output_type": "stream",
          "name": "stderr",
          "text": [
            "/usr/local/lib/python3.7/dist-packages/ipykernel_launcher.py:1: DataConversionWarning: A column-vector y was passed when a 1d array was expected. Please change the shape of y to (n_samples,), for example using ravel().\n",
            "  \"\"\"Entry point for launching an IPython kernel.\n"
          ]
        }
      ]
    },
    {
      "cell_type": "code",
      "metadata": {
        "colab": {
          "base_uri": "https://localhost:8080/"
        },
        "id": "kuwzF_Ks2U-N",
        "outputId": "4e78f0cc-af05-4b8a-b5e2-c09b56b6c17f"
      },
      "source": [
        "#Prediction \n",
        "y_train_pred1 = mod_rf1.predict(X_train1)\n",
        "y_train_pred1"
      ],
      "execution_count": null,
      "outputs": [
        {
          "output_type": "execute_result",
          "data": {
            "text/plain": [
              "array([0, 0, 0, ..., 0, 0, 0])"
            ]
          },
          "metadata": {},
          "execution_count": 148
        }
      ]
    },
    {
      "cell_type": "code",
      "metadata": {
        "colab": {
          "base_uri": "https://localhost:8080/"
        },
        "id": "xv_CnACm2W7Q",
        "outputId": "f1c7cb3a-8c88-40ce-bcf8-b01088f9c7e4"
      },
      "source": [
        "X_test.info()"
      ],
      "execution_count": null,
      "outputs": [
        {
          "output_type": "stream",
          "name": "stdout",
          "text": [
            "<class 'pandas.core.frame.DataFrame'>\n",
            "Int64Index: 3000 entries, 9394 to 5233\n",
            "Data columns (total 7 columns):\n",
            " #   Column            Non-Null Count  Dtype  \n",
            "---  ------            --------------  -----  \n",
            " 0   Type              3000 non-null   int64  \n",
            " 1   Air_temp          3000 non-null   float64\n",
            " 2   Process_temp      3000 non-null   float64\n",
            " 3   Rotational_speed  3000 non-null   float64\n",
            " 4   Torque            3000 non-null   float64\n",
            " 5   Tool_wear         3000 non-null   int64  \n",
            " 6   Failure_Type      3000 non-null   int64  \n",
            "dtypes: float64(4), int64(3)\n",
            "memory usage: 187.5 KB\n"
          ]
        }
      ]
    },
    {
      "cell_type": "code",
      "metadata": {
        "colab": {
          "base_uri": "https://localhost:8080/"
        },
        "id": "zQiq7ZKs2Zxh",
        "outputId": "de669006-82d5-4e55-8fca-792bafe0e454"
      },
      "source": [
        "X_test1 = X_test.iloc[ : ,[6]]\n",
        "X_test1.info()"
      ],
      "execution_count": null,
      "outputs": [
        {
          "output_type": "stream",
          "name": "stdout",
          "text": [
            "<class 'pandas.core.frame.DataFrame'>\n",
            "Int64Index: 3000 entries, 9394 to 5233\n",
            "Data columns (total 1 columns):\n",
            " #   Column        Non-Null Count  Dtype\n",
            "---  ------        --------------  -----\n",
            " 0   Failure_Type  3000 non-null   int64\n",
            "dtypes: int64(1)\n",
            "memory usage: 46.9 KB\n"
          ]
        }
      ]
    },
    {
      "cell_type": "code",
      "metadata": {
        "colab": {
          "base_uri": "https://localhost:8080/"
        },
        "id": "MUvJ0DWn2fQA",
        "outputId": "86520f61-7fb9-4d62-e4ac-6c262125afce"
      },
      "source": [
        "#Prediction \n",
        "y_test_pred1 = mod_rf1.predict(X_test1)\n",
        "y_test_pred1"
      ],
      "execution_count": null,
      "outputs": [
        {
          "output_type": "execute_result",
          "data": {
            "text/plain": [
              "array([0, 0, 0, ..., 0, 0, 0])"
            ]
          },
          "metadata": {},
          "execution_count": 151
        }
      ]
    },
    {
      "cell_type": "code",
      "metadata": {
        "id": "Zc1sok8h3Hsx"
      },
      "source": [
        "from sklearn.metrics import accuracy_score"
      ],
      "execution_count": null,
      "outputs": []
    },
    {
      "cell_type": "code",
      "metadata": {
        "colab": {
          "base_uri": "https://localhost:8080/"
        },
        "id": "yIBHQyMb3KXQ",
        "outputId": "1247b420-5fe1-4836-d7ca-2d3b5c8306bd"
      },
      "source": [
        "print(round(accuracy_score(y_train,y_train_pred1), 2))"
      ],
      "execution_count": null,
      "outputs": [
        {
          "output_type": "stream",
          "name": "stdout",
          "text": [
            "1.0\n"
          ]
        }
      ]
    },
    {
      "cell_type": "code",
      "metadata": {
        "colab": {
          "base_uri": "https://localhost:8080/"
        },
        "id": "EntWbnp83Ovf",
        "outputId": "8274f74b-deff-40d4-cca9-c7fabd734a73"
      },
      "source": [
        "print(round(accuracy_score(y_test,y_test_pred1), 2))"
      ],
      "execution_count": null,
      "outputs": [
        {
          "output_type": "stream",
          "name": "stdout",
          "text": [
            "1.0\n"
          ]
        }
      ]
    },
    {
      "cell_type": "code",
      "metadata": {
        "id": "0agLREXe3RbD"
      },
      "source": [
        "### There is no much difference in accuarcy \n",
        "#Earlier train accuracy = 1 now with 4 features its 0.97\n",
        "#Earlier test accuracy = 1 now with 4 features its 0.97"
      ],
      "execution_count": null,
      "outputs": []
    },
    {
      "cell_type": "code",
      "metadata": {
        "id": "IJ444h283w07"
      },
      "source": [
        "### Confusion Matrix\n",
        "from sklearn.metrics import confusion_matrix"
      ],
      "execution_count": null,
      "outputs": []
    },
    {
      "cell_type": "code",
      "metadata": {
        "colab": {
          "base_uri": "https://localhost:8080/"
        },
        "id": "HgXMZsKQ3wlk",
        "outputId": "1f1e6af7-206a-41af-d11a-a9d4f6591cb9"
      },
      "source": [
        "confusion_matrix = confusion_matrix(y_test, y_test_pred1)\n",
        "print(confusion_matrix)"
      ],
      "execution_count": null,
      "outputs": [
        {
          "output_type": "stream",
          "name": "stdout",
          "text": [
            "[[2901    0]\n",
            " [   6   93]]\n"
          ]
        }
      ]
    },
    {
      "cell_type": "code",
      "metadata": {
        "colab": {
          "base_uri": "https://localhost:8080/"
        },
        "id": "Z-bO7NdA3wAu",
        "outputId": "fab80a09-7863-49b5-bfef-a73908cebb3d"
      },
      "source": [
        "### Classification Report\n",
        "print(classification_report(y_test, y_test_pred1))"
      ],
      "execution_count": null,
      "outputs": [
        {
          "output_type": "stream",
          "name": "stdout",
          "text": [
            "              precision    recall  f1-score   support\n",
            "\n",
            "           0       1.00      1.00      1.00      2901\n",
            "           1       1.00      0.94      0.97        99\n",
            "\n",
            "    accuracy                           1.00      3000\n",
            "   macro avg       1.00      0.97      0.98      3000\n",
            "weighted avg       1.00      1.00      1.00      3000\n",
            "\n"
          ]
        }
      ]
    },
    {
      "cell_type": "code",
      "metadata": {
        "id": "c4yIQlU_38RW"
      },
      "source": [
        "###########################  ROC AUC Curve \n",
        "\n",
        "from sklearn.metrics import roc_auc_score\n",
        "from sklearn.metrics import roc_curve\n",
        "from sklearn.metrics import roc_curve, auc, roc_auc_score"
      ],
      "execution_count": null,
      "outputs": []
    },
    {
      "cell_type": "code",
      "metadata": {
        "id": "VyzL-Hca3_qb"
      },
      "source": [
        "predictedProbability1 = mod_rf1.predict_proba(X_test1)[:, 1]\n",
        "fpr,tpr, thresholds = metrics.roc_curve(y_test, predictedProbability1)"
      ],
      "execution_count": null,
      "outputs": []
    },
    {
      "cell_type": "code",
      "metadata": {
        "colab": {
          "base_uri": "https://localhost:8080/"
        },
        "id": "P2ILugG64DbB",
        "outputId": "2953b30e-f984-44b9-d41a-912f31be4945"
      },
      "source": [
        "fpr"
      ],
      "execution_count": null,
      "outputs": [
        {
          "output_type": "execute_result",
          "data": {
            "text/plain": [
              "array([0., 0., 1.])"
            ]
          },
          "metadata": {},
          "execution_count": 160
        }
      ]
    },
    {
      "cell_type": "code",
      "metadata": {
        "colab": {
          "base_uri": "https://localhost:8080/"
        },
        "id": "oCKOS08O4HGy",
        "outputId": "acb8ce67-2757-4a0b-d902-afae60bde4c4"
      },
      "source": [
        "tpr"
      ],
      "execution_count": null,
      "outputs": [
        {
          "output_type": "execute_result",
          "data": {
            "text/plain": [
              "array([0.        , 0.93939394, 1.        ])"
            ]
          },
          "metadata": {},
          "execution_count": 161
        }
      ]
    },
    {
      "cell_type": "code",
      "metadata": {
        "colab": {
          "base_uri": "https://localhost:8080/"
        },
        "id": "d3yUgOAc4IEa",
        "outputId": "d04004c7-f4d1-4110-fe76-aa73ed3c45f1"
      },
      "source": [
        "thresholds"
      ],
      "execution_count": null,
      "outputs": [
        {
          "output_type": "execute_result",
          "data": {
            "text/plain": [
              "array([2.00000000e+00, 1.00000000e+00, 4.31891628e-04])"
            ]
          },
          "metadata": {},
          "execution_count": 162
        }
      ]
    },
    {
      "cell_type": "code",
      "metadata": {
        "colab": {
          "base_uri": "https://localhost:8080/"
        },
        "id": "-vMQjVfA4K-g",
        "outputId": "26f723c8-db20-40a0-9e7a-9e45945255b3"
      },
      "source": [
        "dff1 = pd.DataFrame(dict(fpr = fpr,tpr = tpr))\n",
        "auc1 = auc(fpr,tpr)\n",
        "auc1"
      ],
      "execution_count": null,
      "outputs": [
        {
          "output_type": "execute_result",
          "data": {
            "text/plain": [
              "0.9696969696969697"
            ]
          },
          "metadata": {},
          "execution_count": 163
        }
      ]
    },
    {
      "cell_type": "code",
      "metadata": {
        "id": "lo9LHkNy4Thx",
        "colab": {
          "base_uri": "https://localhost:8080/",
          "height": 35
        },
        "outputId": "e1d20771-39ed-4fae-bb3f-b192c4e2b065"
      },
      "source": [
        "''' Area Under Curve is 0.96 '''"
      ],
      "execution_count": null,
      "outputs": [
        {
          "output_type": "execute_result",
          "data": {
            "application/vnd.google.colaboratory.intrinsic+json": {
              "type": "string"
            },
            "text/plain": [
              "' Area Under Curve is 0.96 '"
            ]
          },
          "metadata": {},
          "execution_count": 164
        }
      ]
    },
    {
      "cell_type": "code",
      "metadata": {
        "colab": {
          "base_uri": "https://localhost:8080/",
          "height": 301
        },
        "id": "1deTqYCv4X_q",
        "outputId": "f45a4928-8449-407f-c539-dd9890979850"
      },
      "source": [
        "plt.figure()\n",
        "lw = 2\n",
        "plt.plot(fpr, tpr, color = 'green',\n",
        "         lw =lw, label = 'ROC Curve (area = %0.2f)' %auc1)\n",
        "plt.plot([0,1],[0,1], color='navy', lw = lw, linestyle = '--')\n",
        "plt.xlim([-0.1, 1.0])\n",
        "plt.ylim([0.0, 1.1])\n",
        "plt.xlabel('1-Specificity(False Positive Rate)')\n",
        "plt.ylabel('Sensitivity(True Positive Rate)')\n",
        "plt.title(\"ROC - AUC for Random forest\")\n",
        "plt.legend(loc = \"lower right\")\n",
        "plt.show()"
      ],
      "execution_count": null,
      "outputs": [
        {
          "output_type": "display_data",
          "data": {
            "image/png": "[encoded data removed]",
            "text/plain": [
              "<Figure size 432x288 with 1 Axes>"
            ]
          },
          "metadata": {}
        }
      ]
    },
    {
      "cell_type": "markdown",
      "metadata": {
        "id": "wC1J2XDs4iy3"
      },
      "source": [
        "**Gradient Boosting - Model**"
      ]
    },
    {
      "cell_type": "code",
      "metadata": {
        "id": "80MsvRwg5Svc"
      },
      "source": [
        "from sklearn.ensemble import GradientBoostingClassifier\n",
        "from sklearn.model_selection import GridSearchCV"
      ],
      "execution_count": null,
      "outputs": []
    },
    {
      "cell_type": "code",
      "metadata": {
        "colab": {
          "base_uri": "https://localhost:8080/"
        },
        "id": "D4hP-wM86mpj",
        "outputId": "8d5c044a-0213-469f-9e38-c02ee14d0e56"
      },
      "source": [
        "df.info()"
      ],
      "execution_count": null,
      "outputs": [
        {
          "output_type": "stream",
          "name": "stdout",
          "text": [
            "<class 'pandas.core.frame.DataFrame'>\n",
            "RangeIndex: 10000 entries, 0 to 9999\n",
            "Data columns (total 8 columns):\n",
            " #   Column            Non-Null Count  Dtype  \n",
            "---  ------            --------------  -----  \n",
            " 0   Type              10000 non-null  object \n",
            " 1   Air_temp          10000 non-null  float64\n",
            " 2   Process_temp      10000 non-null  float64\n",
            " 3   Rotational_speed  10000 non-null  float64\n",
            " 4   Torque            10000 non-null  float64\n",
            " 5   Tool_wear         10000 non-null  int64  \n",
            " 6   Target            10000 non-null  int64  \n",
            " 7   Failure_Type      10000 non-null  object \n",
            "dtypes: float64(4), int64(2), object(2)\n",
            "memory usage: 625.1+ KB\n"
          ]
        }
      ]
    },
    {
      "cell_type": "code",
      "metadata": {
        "colab": {
          "base_uri": "https://localhost:8080/"
        },
        "id": "d_m40OzqoLIh",
        "outputId": "cdcf8499-85a0-4c33-9d26-012aefb74120"
      },
      "source": [
        "X_train1.info()"
      ],
      "execution_count": null,
      "outputs": [
        {
          "output_type": "stream",
          "name": "stdout",
          "text": [
            "<class 'pandas.core.frame.DataFrame'>\n",
            "Int64Index: 7000 entries, 7681 to 2732\n",
            "Data columns (total 1 columns):\n",
            " #   Column        Non-Null Count  Dtype\n",
            "---  ------        --------------  -----\n",
            " 0   Failure_Type  7000 non-null   int64\n",
            "dtypes: int64(1)\n",
            "memory usage: 109.4 KB\n"
          ]
        }
      ]
    },
    {
      "cell_type": "code",
      "metadata": {
        "id": "78hfC61y8PD3"
      },
      "source": [
        "GB = GradientBoostingClassifier()"
      ],
      "execution_count": null,
      "outputs": []
    },
    {
      "cell_type": "code",
      "metadata": {
        "colab": {
          "base_uri": "https://localhost:8080/"
        },
        "id": "ngrPuQwY83t9",
        "outputId": "d35bf9c2-a8ae-4726-f6d8-2945f0a9fdae"
      },
      "source": [
        "GB_mod = GB.fit(X_train1, y_train)"
      ],
      "execution_count": null,
      "outputs": [
        {
          "output_type": "stream",
          "name": "stderr",
          "text": [
            "/usr/local/lib/python3.7/dist-packages/sklearn/ensemble/_gb.py:494: DataConversionWarning: A column-vector y was passed when a 1d array was expected. Please change the shape of y to (n_samples, ), for example using ravel().\n",
            "  y = column_or_1d(y, warn=True)\n"
          ]
        }
      ]
    },
    {
      "cell_type": "code",
      "metadata": {
        "colab": {
          "base_uri": "https://localhost:8080/"
        },
        "id": "AzrsX6vS85zM",
        "outputId": "f698de90-ac6c-49d9-a1d0-96197df0095a"
      },
      "source": [
        "# Prediction\n",
        "y_train_GB = GB_mod.predict(X_train1)\n",
        "y_train_GB"
      ],
      "execution_count": null,
      "outputs": [
        {
          "output_type": "execute_result",
          "data": {
            "text/plain": [
              "array([0, 0, 0, ..., 0, 0, 0])"
            ]
          },
          "metadata": {},
          "execution_count": 174
        }
      ]
    },
    {
      "cell_type": "code",
      "metadata": {
        "colab": {
          "base_uri": "https://localhost:8080/"
        },
        "id": "_PxZZJTgomsp",
        "outputId": "3d15f4e5-a3c7-4abb-b67a-74afde3176ca"
      },
      "source": [
        "X_test1.info()"
      ],
      "execution_count": null,
      "outputs": [
        {
          "output_type": "stream",
          "name": "stdout",
          "text": [
            "<class 'pandas.core.frame.DataFrame'>\n",
            "Int64Index: 3000 entries, 9394 to 5233\n",
            "Data columns (total 1 columns):\n",
            " #   Column        Non-Null Count  Dtype\n",
            "---  ------        --------------  -----\n",
            " 0   Failure_Type  3000 non-null   int64\n",
            "dtypes: int64(1)\n",
            "memory usage: 46.9 KB\n"
          ]
        }
      ]
    },
    {
      "cell_type": "code",
      "metadata": {
        "colab": {
          "base_uri": "https://localhost:8080/"
        },
        "id": "OMA1n5dc9BGs",
        "outputId": "6a41e5db-de69-47a2-caee-636ed9d37d06"
      },
      "source": [
        "# Prediction\n",
        "y_test_GB = GB_mod.predict(X_test1)\n",
        "y_test_GB"
      ],
      "execution_count": null,
      "outputs": [
        {
          "output_type": "execute_result",
          "data": {
            "text/plain": [
              "array([0, 0, 0, ..., 0, 0, 0])"
            ]
          },
          "metadata": {},
          "execution_count": 177
        }
      ]
    },
    {
      "cell_type": "code",
      "metadata": {
        "colab": {
          "base_uri": "https://localhost:8080/"
        },
        "id": "rSrXuCPV9Whv",
        "outputId": "fffabde7-d4e8-4b08-d0e0-21342f96237a"
      },
      "source": [
        "print(round(accuracy_score(y_train, y_train_GB), 2))"
      ],
      "execution_count": null,
      "outputs": [
        {
          "output_type": "stream",
          "name": "stdout",
          "text": [
            "1.0\n"
          ]
        }
      ]
    },
    {
      "cell_type": "code",
      "metadata": {
        "colab": {
          "base_uri": "https://localhost:8080/"
        },
        "id": "ie5IzS0u9QXl",
        "outputId": "71baa203-baac-4f08-8132-43959a3b8dc9"
      },
      "source": [
        "print(round(accuracy_score(y_test, y_test_GB), 2))"
      ],
      "execution_count": null,
      "outputs": [
        {
          "output_type": "stream",
          "name": "stdout",
          "text": [
            "1.0\n"
          ]
        }
      ]
    },
    {
      "cell_type": "code",
      "metadata": {
        "id": "IhkuaspG9mNO"
      },
      "source": [
        "### Confusion Matrix\n",
        "from sklearn.metrics import confusion_matrix"
      ],
      "execution_count": null,
      "outputs": []
    },
    {
      "cell_type": "code",
      "metadata": {
        "colab": {
          "base_uri": "https://localhost:8080/"
        },
        "id": "iImc_k849pnH",
        "outputId": "d97a4af8-c537-4504-aaf8-b16e5831248e"
      },
      "source": [
        "confusion_matrix = confusion_matrix(y_test, y_test_GB)\n",
        "print(confusion_matrix)"
      ],
      "execution_count": null,
      "outputs": [
        {
          "output_type": "stream",
          "name": "stdout",
          "text": [
            "[[2901    0]\n",
            " [   6   93]]\n"
          ]
        }
      ]
    },
    {
      "cell_type": "code",
      "metadata": {
        "id": "cAPidld59r9w"
      },
      "source": [
        "### Classification Report\n",
        "from sklearn.metrics import classification_report"
      ],
      "execution_count": null,
      "outputs": []
    },
    {
      "cell_type": "code",
      "metadata": {
        "colab": {
          "base_uri": "https://localhost:8080/"
        },
        "id": "Jrb3cgzB9xNJ",
        "outputId": "4dea6b00-532f-4fe7-fe8c-33686bd14b62"
      },
      "source": [
        "print(classification_report(y_test, y_test_GB))"
      ],
      "execution_count": null,
      "outputs": [
        {
          "output_type": "stream",
          "name": "stdout",
          "text": [
            "              precision    recall  f1-score   support\n",
            "\n",
            "           0       1.00      1.00      1.00      2901\n",
            "           1       1.00      0.94      0.97        99\n",
            "\n",
            "    accuracy                           1.00      3000\n",
            "   macro avg       1.00      0.97      0.98      3000\n",
            "weighted avg       1.00      1.00      1.00      3000\n",
            "\n"
          ]
        }
      ]
    },
    {
      "cell_type": "markdown",
      "metadata": {
        "id": "gTn2mDzp93gl"
      },
      "source": [
        "**Knowing your Nearest Neighbours(KNN)**"
      ]
    },
    {
      "cell_type": "code",
      "metadata": {
        "colab": {
          "base_uri": "https://localhost:8080/"
        },
        "id": "VLciMw9m9zl-",
        "outputId": "84092db6-1bf1-4392-f5f1-3c509c1a5334"
      },
      "source": [
        "df.info()"
      ],
      "execution_count": null,
      "outputs": [
        {
          "output_type": "stream",
          "name": "stdout",
          "text": [
            "<class 'pandas.core.frame.DataFrame'>\n",
            "RangeIndex: 10000 entries, 0 to 9999\n",
            "Data columns (total 8 columns):\n",
            " #   Column            Non-Null Count  Dtype  \n",
            "---  ------            --------------  -----  \n",
            " 0   Type              10000 non-null  object \n",
            " 1   Air_temp          10000 non-null  float64\n",
            " 2   Process_temp      10000 non-null  float64\n",
            " 3   Rotational_speed  10000 non-null  float64\n",
            " 4   Torque            10000 non-null  float64\n",
            " 5   Tool_wear         10000 non-null  int64  \n",
            " 6   Target            10000 non-null  int64  \n",
            " 7   Failure_Type      10000 non-null  object \n",
            "dtypes: float64(4), int64(2), object(2)\n",
            "memory usage: 625.1+ KB\n"
          ]
        }
      ]
    },
    {
      "cell_type": "code",
      "metadata": {
        "id": "BgKRjgZb_ZFa"
      },
      "source": [
        "df3= df[:]"
      ],
      "execution_count": null,
      "outputs": []
    },
    {
      "cell_type": "code",
      "metadata": {
        "colab": {
          "base_uri": "https://localhost:8080/"
        },
        "id": "KxLg9Btw-IVQ",
        "outputId": "4d16e2c1-716f-4ca9-8a3e-e7d60c69cfdb"
      },
      "source": [
        "df3.info()"
      ],
      "execution_count": null,
      "outputs": [
        {
          "output_type": "stream",
          "name": "stdout",
          "text": [
            "<class 'pandas.core.frame.DataFrame'>\n",
            "RangeIndex: 10000 entries, 0 to 9999\n",
            "Data columns (total 8 columns):\n",
            " #   Column            Non-Null Count  Dtype  \n",
            "---  ------            --------------  -----  \n",
            " 0   Type              10000 non-null  object \n",
            " 1   Air_temp          10000 non-null  float64\n",
            " 2   Process_temp      10000 non-null  float64\n",
            " 3   Rotational_speed  10000 non-null  float64\n",
            " 4   Torque            10000 non-null  float64\n",
            " 5   Tool_wear         10000 non-null  int64  \n",
            " 6   Target            10000 non-null  int64  \n",
            " 7   Failure_Type      10000 non-null  object \n",
            "dtypes: float64(4), int64(2), object(2)\n",
            "memory usage: 625.1+ KB\n"
          ]
        }
      ]
    },
    {
      "cell_type": "code",
      "metadata": {
        "colab": {
          "base_uri": "https://localhost:8080/"
        },
        "id": "s0kxJeEG-uua",
        "outputId": "0164a278-e097-4ca9-c676-ca4396cd3269"
      },
      "source": [
        "df3.Type.value_counts()"
      ],
      "execution_count": null,
      "outputs": [
        {
          "output_type": "execute_result",
          "data": {
            "text/plain": [
              "1    6000\n",
              "2    4000\n",
              "Name: Type, dtype: int64"
            ]
          },
          "metadata": {},
          "execution_count": 607
        }
      ]
    },
    {
      "cell_type": "code",
      "metadata": {
        "colab": {
          "base_uri": "https://localhost:8080/"
        },
        "id": "1880VNi9--4p",
        "outputId": "40a691ff-4a26-4d73-9b4d-e864c89c433d"
      },
      "source": [
        "df3['Type'].replace('L', '1', inplace = True)\n",
        "df3['Type'].replace('H', '2', inplace = True)"
      ],
      "execution_count": null,
      "outputs": [
        {
          "output_type": "stream",
          "name": "stderr",
          "text": [
            "/usr/local/lib/python3.7/dist-packages/pandas/core/series.py:4582: SettingWithCopyWarning: \n",
            "A value is trying to be set on a copy of a slice from a DataFrame\n",
            "\n",
            "See the caveats in the documentation: https://pandas.pydata.org/pandas-docs/stable/user_guide/indexing.html#returning-a-view-versus-a-copy\n",
            "  method=method,\n"
          ]
        }
      ]
    },
    {
      "cell_type": "code",
      "metadata": {
        "colab": {
          "base_uri": "https://localhost:8080/"
        },
        "id": "wPnZbwsX_MSR",
        "outputId": "9d90933b-75f9-4781-9064-62f8d6cb624a"
      },
      "source": [
        "df3.Type.value_counts()"
      ],
      "execution_count": null,
      "outputs": [
        {
          "output_type": "execute_result",
          "data": {
            "text/plain": [
              "1    6000\n",
              "2    4000\n",
              "Name: Type, dtype: int64"
            ]
          },
          "metadata": {},
          "execution_count": 609
        }
      ]
    },
    {
      "cell_type": "code",
      "metadata": {
        "colab": {
          "base_uri": "https://localhost:8080/"
        },
        "id": "xm_Mt2V7_Oel",
        "outputId": "a0cc29ee-7c16-467a-c865-c88a5ea589de"
      },
      "source": [
        "df3.Failure_Type.value_counts()"
      ],
      "execution_count": null,
      "outputs": [
        {
          "output_type": "execute_result",
          "data": {
            "text/plain": [
              "1    9670\n",
              "2     330\n",
              "Name: Failure_Type, dtype: int64"
            ]
          },
          "metadata": {},
          "execution_count": 610
        }
      ]
    },
    {
      "cell_type": "code",
      "metadata": {
        "id": "XOxr3jtj-JnT"
      },
      "source": [
        "X = df3.loc[:, df3.columns != 'Target']\n",
        "y = df3.loc[:, df3.columns == 'Target']"
      ],
      "execution_count": null,
      "outputs": []
    },
    {
      "cell_type": "code",
      "metadata": {
        "colab": {
          "base_uri": "https://localhost:8080/"
        },
        "id": "CqAfpbHV-YJR",
        "outputId": "7742aefe-44c6-4a72-bd6a-79e1e7ec6091"
      },
      "source": [
        "X.info()"
      ],
      "execution_count": null,
      "outputs": [
        {
          "output_type": "stream",
          "name": "stdout",
          "text": [
            "<class 'pandas.core.frame.DataFrame'>\n",
            "RangeIndex: 10000 entries, 0 to 9999\n",
            "Data columns (total 7 columns):\n",
            " #   Column            Non-Null Count  Dtype  \n",
            "---  ------            --------------  -----  \n",
            " 0   Type              10000 non-null  object \n",
            " 1   Air_temp          10000 non-null  float64\n",
            " 2   Process_temp      10000 non-null  float64\n",
            " 3   Rotational_speed  10000 non-null  float64\n",
            " 4   Torque            10000 non-null  float64\n",
            " 5   Tool_wear         10000 non-null  int64  \n",
            " 6   Failure_Type      10000 non-null  object \n",
            "dtypes: float64(4), int64(1), object(2)\n",
            "memory usage: 547.0+ KB\n"
          ]
        }
      ]
    },
    {
      "cell_type": "code",
      "metadata": {
        "colab": {
          "base_uri": "https://localhost:8080/",
          "height": 423
        },
        "id": "vVoYs4Gi-asp",
        "outputId": "63dbc82d-d8c9-45b6-d80a-eace65ebad6a"
      },
      "source": [
        "y"
      ],
      "execution_count": null,
      "outputs": [
        {
          "output_type": "execute_result",
          "data": {
            "text/html": [
              "<div>\n",
              "<style scoped>\n",
              "    .dataframe tbody tr th:only-of-type {\n",
              "        vertical-align: middle;\n",
              "    }\n",
              "\n",
              "    .dataframe tbody tr th {\n",
              "        vertical-align: top;\n",
              "    }\n",
              "\n",
              "    .dataframe thead th {\n",
              "        text-align: right;\n",
              "    }\n",
              "</style>\n",
              "<table border=\"1\" class=\"dataframe\">\n",
              "  <thead>\n",
              "    <tr style=\"text-align: right;\">\n",
              "      <th></th>\n",
              "      <th>Target</th>\n",
              "    </tr>\n",
              "  </thead>\n",
              "  <tbody>\n",
              "    <tr>\n",
              "      <th>0</th>\n",
              "      <td>0</td>\n",
              "    </tr>\n",
              "    <tr>\n",
              "      <th>1</th>\n",
              "      <td>0</td>\n",
              "    </tr>\n",
              "    <tr>\n",
              "      <th>2</th>\n",
              "      <td>0</td>\n",
              "    </tr>\n",
              "    <tr>\n",
              "      <th>3</th>\n",
              "      <td>0</td>\n",
              "    </tr>\n",
              "    <tr>\n",
              "      <th>4</th>\n",
              "      <td>0</td>\n",
              "    </tr>\n",
              "    <tr>\n",
              "      <th>...</th>\n",
              "      <td>...</td>\n",
              "    </tr>\n",
              "    <tr>\n",
              "      <th>9995</th>\n",
              "      <td>0</td>\n",
              "    </tr>\n",
              "    <tr>\n",
              "      <th>9996</th>\n",
              "      <td>0</td>\n",
              "    </tr>\n",
              "    <tr>\n",
              "      <th>9997</th>\n",
              "      <td>0</td>\n",
              "    </tr>\n",
              "    <tr>\n",
              "      <th>9998</th>\n",
              "      <td>0</td>\n",
              "    </tr>\n",
              "    <tr>\n",
              "      <th>9999</th>\n",
              "      <td>0</td>\n",
              "    </tr>\n",
              "  </tbody>\n",
              "</table>\n",
              "<p>10000 rows × 1 columns</p>\n",
              "</div>"
            ],
            "text/plain": [
              "      Target\n",
              "0          0\n",
              "1          0\n",
              "2          0\n",
              "3          0\n",
              "4          0\n",
              "...      ...\n",
              "9995       0\n",
              "9996       0\n",
              "9997       0\n",
              "9998       0\n",
              "9999       0\n",
              "\n",
              "[10000 rows x 1 columns]"
            ]
          },
          "metadata": {},
          "execution_count": 613
        }
      ]
    },
    {
      "cell_type": "code",
      "metadata": {
        "id": "GyB9jobj-cmo"
      },
      "source": [
        "from sklearn.linear_model import LogisticRegression\n",
        "from sklearn.model_selection import train_test_split"
      ],
      "execution_count": null,
      "outputs": []
    },
    {
      "cell_type": "code",
      "metadata": {
        "id": "ffNJdp_R-fby"
      },
      "source": [
        "X_train, X_test, y_train, y_test = train_test_split(X, y, test_size=0.3, random_state=0)"
      ],
      "execution_count": null,
      "outputs": []
    },
    {
      "cell_type": "code",
      "metadata": {
        "id": "jCmIVx9R-h2z"
      },
      "source": [
        "from sklearn.neighbors import KNeighborsClassifier"
      ],
      "execution_count": null,
      "outputs": []
    },
    {
      "cell_type": "code",
      "metadata": {
        "colab": {
          "base_uri": "https://localhost:8080/"
        },
        "id": "zSqTfpKj-ljb",
        "outputId": "6445030e-8f35-447a-c407-5abd38f170c8"
      },
      "source": [
        "#Building Model @ n_neighbors = 4\n",
        "\n",
        "knn = KNeighborsClassifier(n_neighbors = 4)\n",
        "print(knn) \n",
        "mpm_knn = knn.fit(X_train, y_train) \n",
        "print(mpm_knn)"
      ],
      "execution_count": null,
      "outputs": [
        {
          "output_type": "stream",
          "name": "stdout",
          "text": [
            "KNeighborsClassifier(n_neighbors=4)\n",
            "KNeighborsClassifier(n_neighbors=4)\n"
          ]
        },
        {
          "output_type": "stream",
          "name": "stderr",
          "text": [
            "/usr/local/lib/python3.7/dist-packages/sklearn/neighbors/_classification.py:198: DataConversionWarning: A column-vector y was passed when a 1d array was expected. Please change the shape of y to (n_samples,), for example using ravel().\n",
            "  return self._fit(X, y)\n"
          ]
        }
      ]
    },
    {
      "cell_type": "code",
      "metadata": {
        "colab": {
          "base_uri": "https://localhost:8080/"
        },
        "id": "4hMR-WTN-qyq",
        "outputId": "e3e2be5e-4776-4bad-eb81-cd1798955fab"
      },
      "source": [
        "#Applying on Test data for prediction\n",
        "y_pred_KNN = mpm_knn.predict(X_test)\n",
        "print(y_pred_KNN)"
      ],
      "execution_count": null,
      "outputs": [
        {
          "output_type": "stream",
          "name": "stdout",
          "text": [
            "[0 0 0 ... 0 0 0]\n"
          ]
        }
      ]
    },
    {
      "cell_type": "code",
      "metadata": {
        "colab": {
          "base_uri": "https://localhost:8080/"
        },
        "id": "dbGhEBdy_wL5",
        "outputId": "2c0134fd-a35b-4b61-aaa8-e54d45b1dc4a"
      },
      "source": [
        "#Prediction Score\n",
        "mpm_knn.score(X_test, y_test)"
      ],
      "execution_count": null,
      "outputs": [
        {
          "output_type": "execute_result",
          "data": {
            "text/plain": [
              "0.9683333333333334"
            ]
          },
          "metadata": {},
          "execution_count": 619
        }
      ]
    },
    {
      "cell_type": "code",
      "metadata": {
        "colab": {
          "base_uri": "https://localhost:8080/"
        },
        "id": "Jw_vV3xf_zOQ",
        "outputId": "3d93ed5a-fde6-44e0-ecd0-669703b45734"
      },
      "source": [
        "#Accuracy Score\n",
        "from sklearn.metrics import accuracy_score\n",
        "accuracy_score(y_test, y_pred_KNN) "
      ],
      "execution_count": null,
      "outputs": [
        {
          "output_type": "execute_result",
          "data": {
            "text/plain": [
              "0.9683333333333334"
            ]
          },
          "metadata": {},
          "execution_count": 620
        }
      ]
    },
    {
      "cell_type": "code",
      "metadata": {
        "colab": {
          "base_uri": "https://localhost:8080/"
        },
        "id": "ueZGsKSP_2BD",
        "outputId": "d1c86e58-18ee-4434-eb1b-772db9bb7f7b"
      },
      "source": [
        "# creating a confusion matrix\n",
        "from sklearn.metrics import confusion_matrix\n",
        "knn_predictions = knn.predict(X_test)\n",
        "cm = confusion_matrix(y_test, knn_predictions)\n",
        "cm"
      ],
      "execution_count": null,
      "outputs": [
        {
          "output_type": "execute_result",
          "data": {
            "text/plain": [
              "array([[2893,    8],\n",
              "       [  87,   12]])"
            ]
          },
          "metadata": {},
          "execution_count": 621
        }
      ]
    },
    {
      "cell_type": "code",
      "metadata": {
        "colab": {
          "base_uri": "https://localhost:8080/"
        },
        "id": "EV8NVVhn_4hM",
        "outputId": "c9fefced-217a-455c-9371-c901b1c35f36"
      },
      "source": [
        "### Classification Report\n",
        "from sklearn.metrics import classification_report\n",
        "print(classification_report(y_test, knn_predictions))\n"
      ],
      "execution_count": null,
      "outputs": [
        {
          "output_type": "stream",
          "name": "stdout",
          "text": [
            "              precision    recall  f1-score   support\n",
            "\n",
            "           0       0.97      1.00      0.98      2901\n",
            "           1       0.60      0.12      0.20        99\n",
            "\n",
            "    accuracy                           0.97      3000\n",
            "   macro avg       0.79      0.56      0.59      3000\n",
            "weighted avg       0.96      0.97      0.96      3000\n",
            "\n"
          ]
        }
      ]
    },
    {
      "cell_type": "markdown",
      "metadata": {
        "id": "HReISUSFASSv"
      },
      "source": [
        "**SVM**"
      ]
    },
    {
      "cell_type": "code",
      "metadata": {
        "colab": {
          "base_uri": "https://localhost:8080/"
        },
        "id": "OfCJVEiC_8Kp",
        "outputId": "61f30998-9694-4cc9-90de-cdfb6d3b93cd"
      },
      "source": [
        "df3.info()"
      ],
      "execution_count": null,
      "outputs": [
        {
          "output_type": "stream",
          "name": "stdout",
          "text": [
            "<class 'pandas.core.frame.DataFrame'>\n",
            "RangeIndex: 10000 entries, 0 to 9999\n",
            "Data columns (total 8 columns):\n",
            " #   Column            Non-Null Count  Dtype  \n",
            "---  ------            --------------  -----  \n",
            " 0   Type              10000 non-null  object \n",
            " 1   Air_temp          10000 non-null  float64\n",
            " 2   Process_temp      10000 non-null  float64\n",
            " 3   Rotational_speed  10000 non-null  float64\n",
            " 4   Torque            10000 non-null  float64\n",
            " 5   Tool_wear         10000 non-null  int64  \n",
            " 6   Target            10000 non-null  int64  \n",
            " 7   Failure_Type      10000 non-null  object \n",
            "dtypes: float64(4), int64(2), object(2)\n",
            "memory usage: 625.1+ KB\n"
          ]
        }
      ]
    },
    {
      "cell_type": "code",
      "metadata": {
        "colab": {
          "base_uri": "https://localhost:8080/"
        },
        "id": "Xb_IkS0mADCH",
        "outputId": "267fddb2-7f7f-413b-8e50-b889b2e4bde7"
      },
      "source": [
        "df3.Type.value_counts()"
      ],
      "execution_count": null,
      "outputs": [
        {
          "output_type": "execute_result",
          "data": {
            "text/plain": [
              "1    6000\n",
              "2    4000\n",
              "Name: Type, dtype: int64"
            ]
          },
          "metadata": {},
          "execution_count": 624
        }
      ]
    },
    {
      "cell_type": "code",
      "metadata": {
        "id": "gKj4LDoOAGzM"
      },
      "source": [
        "X = df3.loc[:, df3.columns != 'Target']\n",
        "y = df3.loc[:, df3.columns == 'Target']"
      ],
      "execution_count": null,
      "outputs": []
    },
    {
      "cell_type": "code",
      "metadata": {
        "colab": {
          "base_uri": "https://localhost:8080/"
        },
        "id": "qeFmbUPrAZu1",
        "outputId": "8baea256-90b4-4641-bae3-d72a2785ba3d"
      },
      "source": [
        "X.info()"
      ],
      "execution_count": null,
      "outputs": [
        {
          "output_type": "stream",
          "name": "stdout",
          "text": [
            "<class 'pandas.core.frame.DataFrame'>\n",
            "RangeIndex: 10000 entries, 0 to 9999\n",
            "Data columns (total 7 columns):\n",
            " #   Column            Non-Null Count  Dtype  \n",
            "---  ------            --------------  -----  \n",
            " 0   Type              10000 non-null  object \n",
            " 1   Air_temp          10000 non-null  float64\n",
            " 2   Process_temp      10000 non-null  float64\n",
            " 3   Rotational_speed  10000 non-null  float64\n",
            " 4   Torque            10000 non-null  float64\n",
            " 5   Tool_wear         10000 non-null  int64  \n",
            " 6   Failure_Type      10000 non-null  object \n",
            "dtypes: float64(4), int64(1), object(2)\n",
            "memory usage: 547.0+ KB\n"
          ]
        }
      ]
    },
    {
      "cell_type": "code",
      "metadata": {
        "colab": {
          "base_uri": "https://localhost:8080/",
          "height": 423
        },
        "id": "dbUfOeEnAdYj",
        "outputId": "a29db3c9-13ef-492a-9bd1-00e6123cdc6e"
      },
      "source": [
        "y"
      ],
      "execution_count": null,
      "outputs": [
        {
          "output_type": "execute_result",
          "data": {
            "text/html": [
              "<div>\n",
              "<style scoped>\n",
              "    .dataframe tbody tr th:only-of-type {\n",
              "        vertical-align: middle;\n",
              "    }\n",
              "\n",
              "    .dataframe tbody tr th {\n",
              "        vertical-align: top;\n",
              "    }\n",
              "\n",
              "    .dataframe thead th {\n",
              "        text-align: right;\n",
              "    }\n",
              "</style>\n",
              "<table border=\"1\" class=\"dataframe\">\n",
              "  <thead>\n",
              "    <tr style=\"text-align: right;\">\n",
              "      <th></th>\n",
              "      <th>Target</th>\n",
              "    </tr>\n",
              "  </thead>\n",
              "  <tbody>\n",
              "    <tr>\n",
              "      <th>0</th>\n",
              "      <td>0</td>\n",
              "    </tr>\n",
              "    <tr>\n",
              "      <th>1</th>\n",
              "      <td>0</td>\n",
              "    </tr>\n",
              "    <tr>\n",
              "      <th>2</th>\n",
              "      <td>0</td>\n",
              "    </tr>\n",
              "    <tr>\n",
              "      <th>3</th>\n",
              "      <td>0</td>\n",
              "    </tr>\n",
              "    <tr>\n",
              "      <th>4</th>\n",
              "      <td>0</td>\n",
              "    </tr>\n",
              "    <tr>\n",
              "      <th>...</th>\n",
              "      <td>...</td>\n",
              "    </tr>\n",
              "    <tr>\n",
              "      <th>9995</th>\n",
              "      <td>0</td>\n",
              "    </tr>\n",
              "    <tr>\n",
              "      <th>9996</th>\n",
              "      <td>0</td>\n",
              "    </tr>\n",
              "    <tr>\n",
              "      <th>9997</th>\n",
              "      <td>0</td>\n",
              "    </tr>\n",
              "    <tr>\n",
              "      <th>9998</th>\n",
              "      <td>0</td>\n",
              "    </tr>\n",
              "    <tr>\n",
              "      <th>9999</th>\n",
              "      <td>0</td>\n",
              "    </tr>\n",
              "  </tbody>\n",
              "</table>\n",
              "<p>10000 rows × 1 columns</p>\n",
              "</div>"
            ],
            "text/plain": [
              "      Target\n",
              "0          0\n",
              "1          0\n",
              "2          0\n",
              "3          0\n",
              "4          0\n",
              "...      ...\n",
              "9995       0\n",
              "9996       0\n",
              "9997       0\n",
              "9998       0\n",
              "9999       0\n",
              "\n",
              "[10000 rows x 1 columns]"
            ]
          },
          "metadata": {},
          "execution_count": 627
        }
      ]
    },
    {
      "cell_type": "code",
      "metadata": {
        "id": "Jo-4k-9QAjdY"
      },
      "source": [
        "# splitting\n",
        "from sklearn.linear_model import LogisticRegression\n",
        "from sklearn.model_selection import train_test_split"
      ],
      "execution_count": null,
      "outputs": []
    },
    {
      "cell_type": "code",
      "metadata": {
        "id": "O-kovc76Alx1"
      },
      "source": [
        "X_train, X_test, y_train, y_test = train_test_split(X, y, test_size=0.3, random_state=0)"
      ],
      "execution_count": null,
      "outputs": []
    },
    {
      "cell_type": "code",
      "metadata": {
        "id": "DePrSeJBAoLK"
      },
      "source": [
        "from sklearn import svm\n",
        "from sklearn.svm import SVC"
      ],
      "execution_count": null,
      "outputs": []
    },
    {
      "cell_type": "code",
      "metadata": {
        "colab": {
          "base_uri": "https://localhost:8080/"
        },
        "id": "JBtbkoEwAqTW",
        "outputId": "e277584e-9d4b-48a7-cf2a-df086a09bef4"
      },
      "source": [
        "svm_model= svm.SVC(kernel='linear', C=1, gamma='auto', probability= True).fit(X_train, y_train)\n"
      ],
      "execution_count": null,
      "outputs": [
        {
          "output_type": "stream",
          "name": "stderr",
          "text": [
            "/usr/local/lib/python3.7/dist-packages/sklearn/utils/validation.py:985: DataConversionWarning: A column-vector y was passed when a 1d array was expected. Please change the shape of y to (n_samples, ), for example using ravel().\n",
            "  y = column_or_1d(y, warn=True)\n"
          ]
        }
      ]
    },
    {
      "cell_type": "code",
      "metadata": {
        "id": "wbSwiw_ZAtkl"
      },
      "source": [
        "y_pred_SVM = svm_model.predict(X_test)"
      ],
      "execution_count": null,
      "outputs": []
    },
    {
      "cell_type": "code",
      "metadata": {
        "colab": {
          "base_uri": "https://localhost:8080/"
        },
        "id": "BaZNaKGqA2eP",
        "outputId": "7822516b-c51f-4e78-df4c-ce0167b1d5f5"
      },
      "source": [
        "# model accuracy for X_test \n",
        "accuracy = svm_model.score(X_test, y_test)\n",
        "print(accuracy)"
      ],
      "execution_count": null,
      "outputs": [
        {
          "output_type": "stream",
          "name": "stdout",
          "text": [
            "0.998\n"
          ]
        }
      ]
    },
    {
      "cell_type": "code",
      "metadata": {
        "colab": {
          "base_uri": "https://localhost:8080/"
        },
        "id": "rxozZmTXBvAl",
        "outputId": "fec369e6-ad37-450f-d797-43ae9ab5f464"
      },
      "source": [
        "# creating a confusion matrix\n",
        "from sklearn.metrics import confusion_matrix\n",
        "cm = confusion_matrix(y_test, y_pred_SVM)\n",
        "cm\n"
      ],
      "execution_count": null,
      "outputs": [
        {
          "output_type": "execute_result",
          "data": {
            "text/plain": [
              "array([[2901,    0],\n",
              "       [   6,   93]])"
            ]
          },
          "metadata": {},
          "execution_count": 634
        }
      ]
    },
    {
      "cell_type": "code",
      "metadata": {
        "colab": {
          "base_uri": "https://localhost:8080/"
        },
        "id": "GvxcNnOqBxwb",
        "outputId": "2b97b06c-e662-4f0f-bf2a-cf35cf9d53c9"
      },
      "source": [
        "### Classification Report\n",
        "from sklearn.metrics import classification_report\n",
        "print(classification_report(y_test, y_pred_SVM))"
      ],
      "execution_count": null,
      "outputs": [
        {
          "output_type": "stream",
          "name": "stdout",
          "text": [
            "              precision    recall  f1-score   support\n",
            "\n",
            "           0       1.00      1.00      1.00      2901\n",
            "           1       1.00      0.94      0.97        99\n",
            "\n",
            "    accuracy                           1.00      3000\n",
            "   macro avg       1.00      0.97      0.98      3000\n",
            "weighted avg       1.00      1.00      1.00      3000\n",
            "\n"
          ]
        }
      ]
    },
    {
      "cell_type": "markdown",
      "metadata": {
        "id": "l21vYNGEB4Wd"
      },
      "source": [
        "**Naive Bayes**"
      ]
    },
    {
      "cell_type": "code",
      "metadata": {
        "colab": {
          "base_uri": "https://localhost:8080/"
        },
        "id": "Kb7m0c36B0c3",
        "outputId": "6a5db380-f860-4a47-e368-de1a0daca59f"
      },
      "source": [
        "from sklearn.naive_bayes import GaussianNB\n",
        "gnb = GaussianNB().fit(X_train, y_train)"
      ],
      "execution_count": null,
      "outputs": [
        {
          "output_type": "stream",
          "name": "stderr",
          "text": [
            "/usr/local/lib/python3.7/dist-packages/sklearn/utils/validation.py:985: DataConversionWarning: A column-vector y was passed when a 1d array was expected. Please change the shape of y to (n_samples, ), for example using ravel().\n",
            "  y = column_or_1d(y, warn=True)\n"
          ]
        }
      ]
    },
    {
      "cell_type": "code",
      "metadata": {
        "id": "1IdEYLSxB3lh"
      },
      "source": [
        "gnb_predictions = gnb.predict(X_test)"
      ],
      "execution_count": null,
      "outputs": []
    },
    {
      "cell_type": "code",
      "metadata": {
        "colab": {
          "base_uri": "https://localhost:8080/"
        },
        "id": "GSoZuhypCigy",
        "outputId": "b04a7533-e503-4a4c-9acd-79835c9f8e3d"
      },
      "source": [
        "# accuracy on X_test\n",
        "accuracy = gnb.score(X_test, y_test)\n",
        "print(accuracy)"
      ],
      "execution_count": null,
      "outputs": [
        {
          "output_type": "stream",
          "name": "stdout",
          "text": [
            "0.998\n"
          ]
        }
      ]
    },
    {
      "cell_type": "code",
      "metadata": {
        "colab": {
          "base_uri": "https://localhost:8080/"
        },
        "id": "f8VhaoVAClC6",
        "outputId": "a167861d-a9f7-4cb4-c65f-ad6cbfe30eca"
      },
      "source": [
        "# creating a confusion matrix\n",
        "cm = confusion_matrix(y_test, gnb_predictions)\n",
        "cm\n"
      ],
      "execution_count": null,
      "outputs": [
        {
          "output_type": "execute_result",
          "data": {
            "text/plain": [
              "array([[2901,    0],\n",
              "       [   6,   93]])"
            ]
          },
          "metadata": {},
          "execution_count": 639
        }
      ]
    },
    {
      "cell_type": "code",
      "metadata": {
        "colab": {
          "base_uri": "https://localhost:8080/"
        },
        "id": "BojDFq-oCnHE",
        "outputId": "dfef4d4c-ddcd-4f0a-82d7-ded0b8e61aeb"
      },
      "source": [
        "### Classification Report\n",
        "from sklearn.metrics import classification_report\n",
        "print(classification_report(y_test, gnb_predictions))"
      ],
      "execution_count": null,
      "outputs": [
        {
          "output_type": "stream",
          "name": "stdout",
          "text": [
            "              precision    recall  f1-score   support\n",
            "\n",
            "           0       1.00      1.00      1.00      2901\n",
            "           1       1.00      0.94      0.97        99\n",
            "\n",
            "    accuracy                           1.00      3000\n",
            "   macro avg       1.00      0.97      0.98      3000\n",
            "weighted avg       1.00      1.00      1.00      3000\n",
            "\n"
          ]
        }
      ]
    },
    {
      "cell_type": "code",
      "metadata": {
        "id": "xr6WVlNcCpY2"
      },
      "source": [
        ""
      ],
      "execution_count": null,
      "outputs": []
    }
  ]
}